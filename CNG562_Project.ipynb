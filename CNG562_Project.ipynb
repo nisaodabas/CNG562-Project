{
  "nbformat": 4,
  "nbformat_minor": 0,
  "metadata": {
    "colab": {
      "name": "CNG562-Project.ipynb",
      "provenance": [],
      "authorship_tag": "ABX9TyMZTG+UEJ3zdjffhEjS4N4J",
      "include_colab_link": true
    },
    "kernelspec": {
      "name": "python3",
      "display_name": "Python 3"
    }
  },
  "cells": [
    {
      "cell_type": "markdown",
      "metadata": {
        "id": "view-in-github",
        "colab_type": "text"
      },
      "source": [
        "<a href=\"https://colab.research.google.com/github/nisanuro/CNG562-Project/blob/master/CNG562_Project.ipynb\" target=\"_parent\"><img src=\"https://colab.research.google.com/assets/colab-badge.svg\" alt=\"Open In Colab\"/></a>"
      ]
    },
    {
      "cell_type": "code",
      "metadata": {
        "id": "0nmD6fpWPbbu",
        "colab_type": "code",
        "colab": {
          "base_uri": "https://localhost:8080/",
          "height": 121
        },
        "outputId": "f44db1ea-0d48-4fef-a9a2-ca8122442c8e"
      },
      "source": [
        "import numpy as np\n",
        "import pandas as pd\n",
        "import json\n",
        "from google.colab import output\n",
        "from google.colab import drive\n",
        "drive.mount('/content/drive')"
      ],
      "execution_count": 1,
      "outputs": [
        {
          "output_type": "stream",
          "text": [
            "Go to this URL in a browser: https://accounts.google.com/o/oauth2/auth?client_id=947318989803-6bn6qk8qdgf4n4g3pfee6491hc0brc4i.apps.googleusercontent.com&redirect_uri=urn%3aietf%3awg%3aoauth%3a2.0%3aoob&response_type=code&scope=email%20https%3a%2f%2fwww.googleapis.com%2fauth%2fdocs.test%20https%3a%2f%2fwww.googleapis.com%2fauth%2fdrive%20https%3a%2f%2fwww.googleapis.com%2fauth%2fdrive.photos.readonly%20https%3a%2f%2fwww.googleapis.com%2fauth%2fpeopleapi.readonly\n",
            "\n",
            "Enter your authorization code:\n",
            "··········\n",
            "Mounted at /content/drive\n"
          ],
          "name": "stdout"
        }
      ]
    },
    {
      "cell_type": "code",
      "metadata": {
        "id": "t2Sba7ksUSlK",
        "colab_type": "code",
        "colab": {}
      },
      "source": [
        "if __name__ == \"__main__\":\n",
        "    train_df = pd.read_json('/content/drive/My Drive/CNG562-Project/train.json')\n",
        "    test_df = pd.read_json('/content/drive/My Drive/CNG562-Project/test.json')\n",
        "    train=train_df\n"
      ],
      "execution_count": 0,
      "outputs": []
    },
    {
      "cell_type": "code",
      "metadata": {
        "id": "5k2eSC3LWE_Z",
        "colab_type": "code",
        "colab": {
          "base_uri": "https://localhost:8080/",
          "height": 491
        },
        "outputId": "d540f4ef-4fd2-4971-f877-ff5a3e165032"
      },
      "source": [
        "    train.head(15)"
      ],
      "execution_count": 4,
      "outputs": [
        {
          "output_type": "execute_result",
          "data": {
            "text/html": [
              "<div>\n",
              "<style scoped>\n",
              "    .dataframe tbody tr th:only-of-type {\n",
              "        vertical-align: middle;\n",
              "    }\n",
              "\n",
              "    .dataframe tbody tr th {\n",
              "        vertical-align: top;\n",
              "    }\n",
              "\n",
              "    .dataframe thead th {\n",
              "        text-align: right;\n",
              "    }\n",
              "</style>\n",
              "<table border=\"1\" class=\"dataframe\">\n",
              "  <thead>\n",
              "    <tr style=\"text-align: right;\">\n",
              "      <th></th>\n",
              "      <th>id</th>\n",
              "      <th>cuisine</th>\n",
              "      <th>ingredients</th>\n",
              "    </tr>\n",
              "  </thead>\n",
              "  <tbody>\n",
              "    <tr>\n",
              "      <th>0</th>\n",
              "      <td>10259</td>\n",
              "      <td>greek</td>\n",
              "      <td>[romaine lettuce, black olives, grape tomatoes...</td>\n",
              "    </tr>\n",
              "    <tr>\n",
              "      <th>1</th>\n",
              "      <td>25693</td>\n",
              "      <td>southern_us</td>\n",
              "      <td>[plain flour, ground pepper, salt, tomatoes, g...</td>\n",
              "    </tr>\n",
              "    <tr>\n",
              "      <th>2</th>\n",
              "      <td>20130</td>\n",
              "      <td>filipino</td>\n",
              "      <td>[eggs, pepper, salt, mayonaise, cooking oil, g...</td>\n",
              "    </tr>\n",
              "    <tr>\n",
              "      <th>3</th>\n",
              "      <td>22213</td>\n",
              "      <td>indian</td>\n",
              "      <td>[water, vegetable oil, wheat, salt]</td>\n",
              "    </tr>\n",
              "    <tr>\n",
              "      <th>4</th>\n",
              "      <td>13162</td>\n",
              "      <td>indian</td>\n",
              "      <td>[black pepper, shallots, cornflour, cayenne pe...</td>\n",
              "    </tr>\n",
              "    <tr>\n",
              "      <th>5</th>\n",
              "      <td>6602</td>\n",
              "      <td>jamaican</td>\n",
              "      <td>[plain flour, sugar, butter, eggs, fresh ginge...</td>\n",
              "    </tr>\n",
              "    <tr>\n",
              "      <th>6</th>\n",
              "      <td>42779</td>\n",
              "      <td>spanish</td>\n",
              "      <td>[olive oil, salt, medium shrimp, pepper, garli...</td>\n",
              "    </tr>\n",
              "    <tr>\n",
              "      <th>7</th>\n",
              "      <td>3735</td>\n",
              "      <td>italian</td>\n",
              "      <td>[sugar, pistachio nuts, white almond bark, flo...</td>\n",
              "    </tr>\n",
              "    <tr>\n",
              "      <th>8</th>\n",
              "      <td>16903</td>\n",
              "      <td>mexican</td>\n",
              "      <td>[olive oil, purple onion, fresh pineapple, por...</td>\n",
              "    </tr>\n",
              "    <tr>\n",
              "      <th>9</th>\n",
              "      <td>12734</td>\n",
              "      <td>italian</td>\n",
              "      <td>[chopped tomatoes, fresh basil, garlic, extra-...</td>\n",
              "    </tr>\n",
              "    <tr>\n",
              "      <th>10</th>\n",
              "      <td>5875</td>\n",
              "      <td>italian</td>\n",
              "      <td>[pimentos, sweet pepper, dried oregano, olive ...</td>\n",
              "    </tr>\n",
              "    <tr>\n",
              "      <th>11</th>\n",
              "      <td>45887</td>\n",
              "      <td>chinese</td>\n",
              "      <td>[low sodium soy sauce, fresh ginger, dry musta...</td>\n",
              "    </tr>\n",
              "    <tr>\n",
              "      <th>12</th>\n",
              "      <td>2698</td>\n",
              "      <td>italian</td>\n",
              "      <td>[Italian parsley leaves, walnuts, hot red pepp...</td>\n",
              "    </tr>\n",
              "    <tr>\n",
              "      <th>13</th>\n",
              "      <td>41995</td>\n",
              "      <td>mexican</td>\n",
              "      <td>[ground cinnamon, fresh cilantro, chili powder...</td>\n",
              "    </tr>\n",
              "    <tr>\n",
              "      <th>14</th>\n",
              "      <td>31908</td>\n",
              "      <td>italian</td>\n",
              "      <td>[fresh parmesan cheese, butter, all-purpose fl...</td>\n",
              "    </tr>\n",
              "  </tbody>\n",
              "</table>\n",
              "</div>"
            ],
            "text/plain": [
              "       id      cuisine                                        ingredients\n",
              "0   10259        greek  [romaine lettuce, black olives, grape tomatoes...\n",
              "1   25693  southern_us  [plain flour, ground pepper, salt, tomatoes, g...\n",
              "2   20130     filipino  [eggs, pepper, salt, mayonaise, cooking oil, g...\n",
              "3   22213       indian                [water, vegetable oil, wheat, salt]\n",
              "4   13162       indian  [black pepper, shallots, cornflour, cayenne pe...\n",
              "5    6602     jamaican  [plain flour, sugar, butter, eggs, fresh ginge...\n",
              "6   42779      spanish  [olive oil, salt, medium shrimp, pepper, garli...\n",
              "7    3735      italian  [sugar, pistachio nuts, white almond bark, flo...\n",
              "8   16903      mexican  [olive oil, purple onion, fresh pineapple, por...\n",
              "9   12734      italian  [chopped tomatoes, fresh basil, garlic, extra-...\n",
              "10   5875      italian  [pimentos, sweet pepper, dried oregano, olive ...\n",
              "11  45887      chinese  [low sodium soy sauce, fresh ginger, dry musta...\n",
              "12   2698      italian  [Italian parsley leaves, walnuts, hot red pepp...\n",
              "13  41995      mexican  [ground cinnamon, fresh cilantro, chili powder...\n",
              "14  31908      italian  [fresh parmesan cheese, butter, all-purpose fl..."
            ]
          },
          "metadata": {
            "tags": []
          },
          "execution_count": 4
        }
      ]
    }
  ]
}