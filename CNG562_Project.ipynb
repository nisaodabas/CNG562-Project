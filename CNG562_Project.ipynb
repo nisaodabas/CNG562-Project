{
  "nbformat": 4,
  "nbformat_minor": 0,
  "metadata": {
    "colab": {
      "name": "CNG562-Project.ipynb",
      "provenance": [],
      "include_colab_link": true
    },
    "kernelspec": {
      "name": "python3",
      "display_name": "Python 3"
    }
  },
  "cells": [
    {
      "cell_type": "markdown",
      "metadata": {
        "id": "view-in-github",
        "colab_type": "text"
      },
      "source": [
        "<a href=\"https://colab.research.google.com/github/nisaodabas/CNG562-Project/blob/master/CNG562_Project.ipynb\" target=\"_parent\"><img src=\"https://colab.research.google.com/assets/colab-badge.svg\" alt=\"Open In Colab\"/></a>"
      ]
    },
    {
      "cell_type": "code",
      "metadata": {
        "id": "0nmD6fpWPbbu",
        "colab_type": "code",
        "outputId": "516ee7cb-66f1-43d1-a251-6a7a158f43e8",
        "colab": {
          "base_uri": "https://localhost:8080/",
          "height": 68
        }
      },
      "source": [
        "import numpy as np\n",
        "import pandas as pd\n",
        "import re\n",
        "from pandas import read_csv\n",
        "import matplotlib.pyplot as plt\n",
        "import plotly.graph_objs as go\n",
        "from plotly.offline import iplot\n",
        "from sklearn import model_selection\n",
        "from sklearn.model_selection import train_test_split, cross_val_score, KFold, learning_curve, StratifiedKFold, train_test_split\n",
        "from sklearn.metrics import confusion_matrix, make_scorer, accuracy_score \n",
        "from sklearn.ensemble import RandomForestClassifier\n",
        "from sklearn.linear_model import LogisticRegression\n",
        "from sklearn.svm import SVC, LinearSVC\n",
        "from sklearn.multiclass import OneVsRestClassifier\n",
        "from sklearn.cluster import KMeans\n",
        "from sklearn.model_selection import cross_validate, RandomizedSearchCV, GridSearchCV\n",
        "from sklearn.preprocessing import LabelEncoder\n",
        "from sklearn.feature_extraction.text import CountVectorizer, HashingVectorizer, TfidfVectorizer\n",
        "from nltk.stem import WordNetLemmatizer\n",
        "from sklearn.pipeline import make_pipeline\n",
        "from sklearn.preprocessing import FunctionTransformer, LabelEncoder\n",
        "from tqdm import tqdm\n",
        "from google.colab import output\n",
        "from google.colab import drive\n",
        "import nltk\n",
        "\n",
        "tqdm.pandas()\n",
        "nltk.download(\"wordnet\")\n",
        "drive.mount('/content/drive')\n",
        "%matplotlib inline"
      ],
      "execution_count": 1,
      "outputs": [
        {
          "output_type": "stream",
          "text": [
            "[nltk_data] Downloading package wordnet to /root/nltk_data...\n",
            "[nltk_data]   Package wordnet is already up-to-date!\n",
            "Drive already mounted at /content/drive; to attempt to forcibly remount, call drive.mount(\"/content/drive\", force_remount=True).\n"
          ],
          "name": "stdout"
        }
      ]
    },
    {
      "cell_type": "code",
      "metadata": {
        "id": "ZSD9qppCdJhh",
        "colab_type": "code",
        "colab": {}
      },
      "source": [
        "def compareAccuracy(a, b): \n",
        "    print('\\nCompare Multiple Classifiers: \\n')\n",
        "    print('K-Fold Cross-Validation Accuracy: \\n')\n",
        "    names = []\n",
        "    models = []\n",
        "    resultsAccuracy = []\n",
        "    models.append(('LR', LogisticRegression(max_iter=10000)))\n",
        "    models.append(('LSVM', LinearSVC(max_iter=10000)))\n",
        "    models.append(('RF', RandomForestClassifier()))\n",
        "    for name, model in models:\n",
        "        model.fit(a, b)\n",
        "        kfold = model_selection.KFold(n_splits=10, random_state=7, shuffle=True)\n",
        "        accuracy_results = model_selection.cross_val_score(model, a,b, cv=kfold, scoring='accuracy')\n",
        "        resultsAccuracy.append(accuracy_results)\n",
        "        names.append(name)\n",
        "        accuracyMessage = \"%s: %f (%f)\" % (name, accuracy_results.mean(), accuracy_results.std())\n",
        "        print(accuracyMessage) \n",
        "    # Boxplot\n",
        "    fig = plt.figure()\n",
        "    fig.suptitle('Algorithm Comparison: Accuracy')\n",
        "    ax = fig.add_subplot(111)\n",
        "    plt.boxplot(resultsAccuracy)\n",
        "    ax.set_xticklabels(names)\n",
        "    ax.set_ylabel('Cross-Validation: Accuracy Score')\n",
        "    plt.show()"
      ],
      "execution_count": 0,
      "outputs": []
    },
    {
      "cell_type": "code",
      "metadata": {
        "id": "gpbwj15s6jna",
        "colab_type": "code",
        "colab": {}
      },
      "source": [
        "lemmatizer = WordNetLemmatizer()\n",
        "def preprocess(ingredients):\n",
        "    ingredients_text = ' '.join(ingredients)\n",
        "    ingredients_text = ingredients_text.lower()\n",
        "    ingredients_text = ingredients_text.replace('-', '')#wasabe\n",
        "    ingredients_text = ingredients_text.replace('wasabe', 'wasabi') #for wrong name\n",
        "    #ingredients_text = ingredients_text.replace('egg whites', 'eggwhites , egg , whites')\n",
        "    #ingredients_text = ingredients_text.replace('lime juice', 'limejuice')\n",
        "    #ingredients_text = ingredients_text.replace('clam juice', 'clamjuice')\n",
        "    #ingredients_text = ingredients_text.replace('lemon juice', 'lemonjuice')\n",
        "    #ingredients_text = ingredients_text.replace('orange juice', 'orangejuice')\n",
        "    #ingredients_text = ingredients_text.replace('soy sauce', 'soysauce')\n",
        "    ingredients_text = ingredients_text.replace('fish sauce', 'fishsauce')\n",
        "    #ingredients_text = ingredients_text.replace('sesame oil', 'sesameoil')\n",
        "    #ingredients_text = ingredients_text.replace('olive oil', 'oliveoil')#vegetable oil corn oil\n",
        "    #ingredients_text = ingredients_text.replace('vegetable oil', 'vegetableoil')\n",
        "    #ingredients_text = ingredients_text.replace('corn oil', 'cornoil')#rice wine\n",
        "    #\n",
        "    ingredients_text = ingredients_text.replace('coconut cream', 'coconutcream')\n",
        "    #\n",
        "    ingredients_text = ingredients_text.replace('yellow onion', 'yellowonion')\n",
        "    ingredients_text = ingredients_text.replace('cream cheese', 'creamcheese') \n",
        "    ingredients_text = ingredients_text.replace('baby spinach', 'babyspinach')\n",
        "    ingredients_text = ingredients_text.replace('coriander seeds', 'corianderseeds')\n",
        "    ingredients_text = ingredients_text.replace('corn tortillas', 'corntortillas')\n",
        "    ingredients_text = ingredients_text.replace('rice cakes', 'ricecakes')\n",
        "    words = []\n",
        "    for word in ingredients_text.split():\n",
        "        if re.findall('[0-9]', word): continue\n",
        "        if len(word) <= 2: continue\n",
        "        if '’' in word: continue\n",
        "        word = lemmatizer.lemmatize(word)\n",
        "        if len(word) > 0: words.append(word)\n",
        "    return ' '.join(words)"
      ],
      "execution_count": 0,
      "outputs": []
    },
    {
      "cell_type": "code",
      "metadata": {
        "id": "gpbalqdjb_Vu",
        "colab_type": "code",
        "colab": {}
      },
      "source": [
        "def baseModelComparision(x_train, y_train):\n",
        "    svc_linear = LinearSVC(max_iter=-1)\n",
        "    svc = SVC(cache_size=1000, max_iter=-1)\n",
        "    forest = RandomForestClassifier()\n",
        "    kmeans = KMeans()\n",
        "\n",
        "    #accuracy_results1 = cross_val_score(svc_linear, x_train, y_train, scoring='accuracy')\n",
        "    #print(\"1 {}\".format(accuracy_results1))\n",
        "\n",
        "    accuracy_results4 = cross_val_score(svc, x_train, y_train, scoring='accuracy')\n",
        "    print(\"4 {}\".format(accuracy_results4))\n",
        "    \n",
        "    accuracy_results2 = cross_val_score(forest, x_train, y_train, scoring='accuracy')\n",
        "    accuracy_results3 = cross_val_score(kmeans, x_train, y_train, scoring='accuracy')\n",
        "\n",
        "    print(\"2 {}\".format(accuracy_results2))\n",
        "    print(\"3 {}\".format(accuracy_results3))"
      ],
      "execution_count": 0,
      "outputs": []
    },
    {
      "cell_type": "code",
      "metadata": {
        "id": "cZkt4REBpXM1",
        "colab_type": "code",
        "colab": {}
      },
      "source": [
        "def parameterTuning(x_train, y_train):\n",
        "    param_grid = {'C': [0.1,1, 10, 100], 'gamma': [1,0.1,0.01,0.001],'kernel': ['rbf', 'poly', 'linear']}\n",
        "    \n",
        "    C = [0.1,1, 10, 100, 200, 250]\n",
        "    #gamma = [1,0.1,0.01,0.001]\n",
        "    #kernel = ['rbf', 'poly', 'linear']\n",
        "\n",
        "    #print(\"SVM\")\n",
        "    #for i in C:\n",
        "    #    for j in gamma:\n",
        "    #        for k in kernel:\n",
        "    #            print(\"C: {}, Gamma: {}, Kernel: {}\".format(i, j, k))\n",
        "    #            svc = SVC(C=i, gamma=j, kernel=k, cache_size=1000)\n",
        "    #            result = cross_val_score(svc, x_train, y_train, scoring=\"accuracy\")\n",
        "    #            print(result)\n",
        "    #    print(\"---------------------------------\\n\")\n",
        "    #grid = GridSearchCV(SVC(), param_grid,refit=True, n_jobs=-1)\n",
        "    #grid.fit(x_train,y_train)\n",
        "    \n",
        "    #print(\"SVM\")\n",
        "    #print(grid.best_estimator_)\n",
        "    #print(grid.best_params_)\n",
        "\n",
        "    #param_grid = {'C': [0.1,1, 10, 100]}\n",
        "\n",
        "    #grid = GridSearchCV(LinearSVC(), param_grid,refit=True, n_jobs=-1)\n",
        "    #grid.fit(x_train,y_train)\n",
        "    \n",
        "    #print(\"Linear SVM\")\n",
        "    #for i in C:\n",
        "    #    print(\"C: {}\".format(i))\n",
        "    #    svc = LinearSVC(C=i, max_iter=10000)\n",
        "    #    result = cross_val_score(svc, x_train, y_train, scoring=\"accuracy\")\n",
        "    #    print(result)\n",
        "    \n",
        "    #print(\"Linear SVM\")\n",
        "    #print(grid.best_estimator_)\n",
        "    #print(grid.best_params_)\n",
        "\n",
        "    n_estimators = [100, 300, 500, 800, 1200]\n",
        "    min_samples_split = [2, 5, 10, 15, 100]\n",
        "    max_depth = [5, 8, 15, 25, 30]\n",
        "    min_samples_leaf = [1, 2, 5, 10] \n",
        "\n",
        "    print(\"Random Forest\")\n",
        "    for i in n_estimators:\n",
        "        for j in min_samples_split:\n",
        "            for k in max_depth:\n",
        "                for l in min_samples_leaf:\n",
        "                    print(\"n_estimators: {}, min_samples_split: {}, max_depth: {}, min_samples_leaf: {}\".format(i, j, k, l))\n",
        "                    rf = RandomForestClassifier(n_estimators=i, min_samples_split=j, max_depth=k, min_samples_leaf=l)\n",
        "                    result = cross_val_score(rf, x_train, y_train, scoring=\"accuracy\")\n",
        "                    print(result)\n",
        "        print(\"---------------------------------\\n\")\n",
        "    #hyperF = dict(n_estimators = n_estimators, max_depth = max_depth,  \n",
        "    #          min_samples_split = min_samples_split, \n",
        "    #         min_samples_leaf = min_samples_leaf)\n",
        "    \n",
        "    #grid = GridSearchCV(RandomForestClassifier(), hyperF, n_jobs = -1, refit=True)\n",
        "    #grid.fit(x_train, y_train)\n",
        "    \n",
        "    \n",
        "    #print(\"Grid Forest\")\n",
        "    #print(grid.best_estimator_)\n",
        "    #print(grid.best_params_)\n",
        "\n",
        "    #rand = RandomizedSearchCV(RandomForestClassifier(), hyperF, n_jobs=-1)\n",
        "    #rand.fit(x_train, y_train)\n",
        "\n",
        "    #print(\"Random Forest\")\n",
        "    #print(rand.best_estimator_)\n",
        "    #print(rand.best_params_)"
      ],
      "execution_count": 0,
      "outputs": []
    },
    {
      "cell_type": "code",
      "metadata": {
        "id": "Rx66P290dqoe",
        "colab_type": "code",
        "colab": {}
      },
      "source": [
        "def test(x_train, y_train, test):\n",
        "    estimator = SVC(C=250, # penalty parameter, setting it to a larger value \n",
        "\t \t\t\t kernel='rbf', # kernel type, rbf working fine here\n",
        "\t \t\t\t degree=3, # default value, not tuned yet\n",
        "\t \t\t\t gamma=1.4, # kernel coefficient, not tuned yet\n",
        "\t \t\t\t coef0=1, # change to 1 from default value of 0.0\n",
        "\t \t\t\t shrinking=True, # using shrinking heuristics\n",
        "\t \t\t\t tol=0.001, # stopping criterion tolerance \n",
        "\t \t\t\t probability=False, # no need to enable probability estimates\n",
        "\t \t\t\t cache_size=1000, # 200 MB cache size\n",
        "\t \t\t\t class_weight=None, # all classes are treated equally \n",
        "\t \t\t\t verbose=False, # print the logs \n",
        "\t \t\t\t max_iter=-1, # no limit, let it run\n",
        "\t \t\t\t decision_function_shape=None, # will use one vs rest explicitly \n",
        "\t \t\t\t random_state=None)\n",
        "    classifier = OneVsRestClassifier(estimator)\n",
        "\n",
        "    scores = cross_validate(classifier, x_train, y_train, cv=3)\n",
        "    scores['test_score'].mean()\n",
        "\n",
        "    classifier.fit(x_train, y_train)\n",
        "\n",
        "    y_pred = label_encoder.inverse_transform(classifier.predict(x_train))\n",
        "    y_true = label_encoder.inverse_transform(y_train)\n",
        "\n",
        "    print(f'accuracy score on train data: {accuracy_score(y_true, y_pred)}')"
      ],
      "execution_count": 0,
      "outputs": []
    },
    {
      "cell_type": "code",
      "metadata": {
        "id": "t2Sba7ksUSlK",
        "colab_type": "code",
        "colab": {}
      },
      "source": [
        "if __name__ == \"__main__\":\n",
        "    train_df = pd.read_json('/content/drive/My Drive/CNG562-Project/train.json')\n",
        "    test_df = pd.read_json('/content/drive/My Drive/CNG562-Project/test.json')\n",
        "    train=train_df\n",
        "    test = test_df\n"
      ],
      "execution_count": 0,
      "outputs": []
    },
    {
      "cell_type": "code",
      "metadata": {
        "id": "5k2eSC3LWE_Z",
        "colab_type": "code",
        "outputId": "93640e75-49db-4ea6-f248-0c90a07759b8",
        "colab": {
          "base_uri": "https://localhost:8080/",
          "height": 514
        }
      },
      "source": [
        "    train.head(15)"
      ],
      "execution_count": 8,
      "outputs": [
        {
          "output_type": "execute_result",
          "data": {
            "text/html": [
              "<div>\n",
              "<style scoped>\n",
              "    .dataframe tbody tr th:only-of-type {\n",
              "        vertical-align: middle;\n",
              "    }\n",
              "\n",
              "    .dataframe tbody tr th {\n",
              "        vertical-align: top;\n",
              "    }\n",
              "\n",
              "    .dataframe thead th {\n",
              "        text-align: right;\n",
              "    }\n",
              "</style>\n",
              "<table border=\"1\" class=\"dataframe\">\n",
              "  <thead>\n",
              "    <tr style=\"text-align: right;\">\n",
              "      <th></th>\n",
              "      <th>id</th>\n",
              "      <th>cuisine</th>\n",
              "      <th>ingredients</th>\n",
              "    </tr>\n",
              "  </thead>\n",
              "  <tbody>\n",
              "    <tr>\n",
              "      <th>0</th>\n",
              "      <td>10259</td>\n",
              "      <td>greek</td>\n",
              "      <td>[romaine lettuce, black olives, grape tomatoes...</td>\n",
              "    </tr>\n",
              "    <tr>\n",
              "      <th>1</th>\n",
              "      <td>25693</td>\n",
              "      <td>southern_us</td>\n",
              "      <td>[plain flour, ground pepper, salt, tomatoes, g...</td>\n",
              "    </tr>\n",
              "    <tr>\n",
              "      <th>2</th>\n",
              "      <td>20130</td>\n",
              "      <td>filipino</td>\n",
              "      <td>[eggs, pepper, salt, mayonaise, cooking oil, g...</td>\n",
              "    </tr>\n",
              "    <tr>\n",
              "      <th>3</th>\n",
              "      <td>22213</td>\n",
              "      <td>indian</td>\n",
              "      <td>[water, vegetable oil, wheat, salt]</td>\n",
              "    </tr>\n",
              "    <tr>\n",
              "      <th>4</th>\n",
              "      <td>13162</td>\n",
              "      <td>indian</td>\n",
              "      <td>[black pepper, shallots, cornflour, cayenne pe...</td>\n",
              "    </tr>\n",
              "    <tr>\n",
              "      <th>5</th>\n",
              "      <td>6602</td>\n",
              "      <td>jamaican</td>\n",
              "      <td>[plain flour, sugar, butter, eggs, fresh ginge...</td>\n",
              "    </tr>\n",
              "    <tr>\n",
              "      <th>6</th>\n",
              "      <td>42779</td>\n",
              "      <td>spanish</td>\n",
              "      <td>[olive oil, salt, medium shrimp, pepper, garli...</td>\n",
              "    </tr>\n",
              "    <tr>\n",
              "      <th>7</th>\n",
              "      <td>3735</td>\n",
              "      <td>italian</td>\n",
              "      <td>[sugar, pistachio nuts, white almond bark, flo...</td>\n",
              "    </tr>\n",
              "    <tr>\n",
              "      <th>8</th>\n",
              "      <td>16903</td>\n",
              "      <td>mexican</td>\n",
              "      <td>[olive oil, purple onion, fresh pineapple, por...</td>\n",
              "    </tr>\n",
              "    <tr>\n",
              "      <th>9</th>\n",
              "      <td>12734</td>\n",
              "      <td>italian</td>\n",
              "      <td>[chopped tomatoes, fresh basil, garlic, extra-...</td>\n",
              "    </tr>\n",
              "    <tr>\n",
              "      <th>10</th>\n",
              "      <td>5875</td>\n",
              "      <td>italian</td>\n",
              "      <td>[pimentos, sweet pepper, dried oregano, olive ...</td>\n",
              "    </tr>\n",
              "    <tr>\n",
              "      <th>11</th>\n",
              "      <td>45887</td>\n",
              "      <td>chinese</td>\n",
              "      <td>[low sodium soy sauce, fresh ginger, dry musta...</td>\n",
              "    </tr>\n",
              "    <tr>\n",
              "      <th>12</th>\n",
              "      <td>2698</td>\n",
              "      <td>italian</td>\n",
              "      <td>[Italian parsley leaves, walnuts, hot red pepp...</td>\n",
              "    </tr>\n",
              "    <tr>\n",
              "      <th>13</th>\n",
              "      <td>41995</td>\n",
              "      <td>mexican</td>\n",
              "      <td>[ground cinnamon, fresh cilantro, chili powder...</td>\n",
              "    </tr>\n",
              "    <tr>\n",
              "      <th>14</th>\n",
              "      <td>31908</td>\n",
              "      <td>italian</td>\n",
              "      <td>[fresh parmesan cheese, butter, all-purpose fl...</td>\n",
              "    </tr>\n",
              "  </tbody>\n",
              "</table>\n",
              "</div>"
            ],
            "text/plain": [
              "       id      cuisine                                        ingredients\n",
              "0   10259        greek  [romaine lettuce, black olives, grape tomatoes...\n",
              "1   25693  southern_us  [plain flour, ground pepper, salt, tomatoes, g...\n",
              "2   20130     filipino  [eggs, pepper, salt, mayonaise, cooking oil, g...\n",
              "3   22213       indian                [water, vegetable oil, wheat, salt]\n",
              "4   13162       indian  [black pepper, shallots, cornflour, cayenne pe...\n",
              "5    6602     jamaican  [plain flour, sugar, butter, eggs, fresh ginge...\n",
              "6   42779      spanish  [olive oil, salt, medium shrimp, pepper, garli...\n",
              "7    3735      italian  [sugar, pistachio nuts, white almond bark, flo...\n",
              "8   16903      mexican  [olive oil, purple onion, fresh pineapple, por...\n",
              "9   12734      italian  [chopped tomatoes, fresh basil, garlic, extra-...\n",
              "10   5875      italian  [pimentos, sweet pepper, dried oregano, olive ...\n",
              "11  45887      chinese  [low sodium soy sauce, fresh ginger, dry musta...\n",
              "12   2698      italian  [Italian parsley leaves, walnuts, hot red pepp...\n",
              "13  41995      mexican  [ground cinnamon, fresh cilantro, chili powder...\n",
              "14  31908      italian  [fresh parmesan cheese, butter, all-purpose fl..."
            ]
          },
          "metadata": {
            "tags": []
          },
          "execution_count": 8
        }
      ]
    },
    {
      "cell_type": "code",
      "metadata": {
        "id": "y4d2JKDgXrX4",
        "colab_type": "code",
        "outputId": "fb5d5f53-d655-405c-ed59-f3011ee26afb",
        "colab": {
          "base_uri": "https://localhost:8080/",
          "height": 102
        }
      },
      "source": [
        "    total = train.isnull().sum().sort_values(ascending = False)\n",
        "    percent = (train.isnull().sum()/train.isnull().count()*100).sort_values(ascending = False)\n",
        "    missing_train_data  = pd.concat([total, percent], axis=1, keys=['Total missing', 'Percent missing'])\n",
        "    print(\"             # of Rows, Columns:\",train.shape)\n",
        "    print(missing_train_data.head())"
      ],
      "execution_count": 9,
      "outputs": [
        {
          "output_type": "stream",
          "text": [
            "             # of Rows, Columns: (39774, 3)\n",
            "             Total missing  Percent missing\n",
            "ingredients              0              0.0\n",
            "cuisine                  0              0.0\n",
            "id                       0              0.0\n"
          ],
          "name": "stdout"
        }
      ]
    },
    {
      "cell_type": "code",
      "metadata": {
        "id": "bauY9dXuYB-O",
        "colab_type": "code",
        "outputId": "d4ae3040-3a5c-4f6e-f6be-febafc824ef7",
        "colab": {
          "base_uri": "https://localhost:8080/",
          "height": 542
        }
      },
      "source": [
        "color_theme = dict(color = ['rgba(221,160,221,1)','rgba(169,169,169,1)','rgba(255,160,122,1)','rgba(176,224,230,1)','rgba(169,169,169,1)','rgba(255,160,122,1)','rgba(176,224,230,1)',\n",
        "                   'rgba(188,143,143,1)','rgba(221,160,221,1)','rgba(169,169,169,1)','rgba(255,160,122,1)','rgba(176,224,230,1)','rgba(189,183,107,1)','rgba(188,143,143,1)','rgba(221,160,221,1)','rgba(169,169,169,1)','rgba(255,160,122,1)','rgba(176,224,230,1)','rgba(169,169,169,1)','rgba(255,160,122,1)'])\n",
        "temp = train['cuisine'].value_counts()\n",
        "trace = go.Bar(y=temp.index[::-1],x=(temp)[::-1],orientation = 'h',marker=color_theme)\n",
        "layout = go.Layout(title = \"Count of recipes per cuisine\",xaxis=dict(title='Recipe count',tickfont=dict(size=14,)),\n",
        "                   yaxis=dict(title='Cuisine',titlefont=dict(size=16),tickfont=dict(size=14)),margin=dict(l=200,))\n",
        "data = [trace]\n",
        "fig = go.Figure(data=data, layout=layout)\n",
        "iplot(fig,filename='basic-bar')"
      ],
      "execution_count": 10,
      "outputs": [
        {
          "output_type": "display_data",
          "data": {
            "text/html": [
              "<html>\n",
              "<head><meta charset=\"utf-8\" /></head>\n",
              "<body>\n",
              "    <div>\n",
              "            <script src=\"https://cdnjs.cloudflare.com/ajax/libs/mathjax/2.7.5/MathJax.js?config=TeX-AMS-MML_SVG\"></script><script type=\"text/javascript\">if (window.MathJax) {MathJax.Hub.Config({SVG: {font: \"STIX-Web\"}});}</script>\n",
              "                <script type=\"text/javascript\">window.PlotlyConfig = {MathJaxConfig: 'local'};</script>\n",
              "        <script src=\"https://cdn.plot.ly/plotly-latest.min.js\"></script>    \n",
              "            <div id=\"35c44348-1443-4060-9793-6b222f48a45a\" class=\"plotly-graph-div\" style=\"height:525px; width:100%;\"></div>\n",
              "            <script type=\"text/javascript\">\n",
              "                \n",
              "                    window.PLOTLYENV=window.PLOTLYENV || {};\n",
              "                    \n",
              "                if (document.getElementById(\"35c44348-1443-4060-9793-6b222f48a45a\")) {\n",
              "                    Plotly.newPlot(\n",
              "                        '35c44348-1443-4060-9793-6b222f48a45a',\n",
              "                        [{\"marker\": {\"color\": [\"rgba(221,160,221,1)\", \"rgba(169,169,169,1)\", \"rgba(255,160,122,1)\", \"rgba(176,224,230,1)\", \"rgba(169,169,169,1)\", \"rgba(255,160,122,1)\", \"rgba(176,224,230,1)\", \"rgba(188,143,143,1)\", \"rgba(221,160,221,1)\", \"rgba(169,169,169,1)\", \"rgba(255,160,122,1)\", \"rgba(176,224,230,1)\", \"rgba(189,183,107,1)\", \"rgba(188,143,143,1)\", \"rgba(221,160,221,1)\", \"rgba(169,169,169,1)\", \"rgba(255,160,122,1)\", \"rgba(176,224,230,1)\", \"rgba(169,169,169,1)\", \"rgba(255,160,122,1)\"]}, \"orientation\": \"h\", \"type\": \"bar\", \"x\": [467, 489, 526, 667, 755, 804, 821, 825, 830, 989, 1175, 1423, 1539, 1546, 2646, 2673, 3003, 4320, 6438, 7838], \"y\": [\"brazilian\", \"russian\", \"jamaican\", \"irish\", \"filipino\", \"british\", \"moroccan\", \"vietnamese\", \"korean\", \"spanish\", \"greek\", \"japanese\", \"thai\", \"cajun_creole\", \"french\", \"chinese\", \"indian\", \"southern_us\", \"mexican\", \"italian\"]}],\n",
              "                        {\"margin\": {\"l\": 200}, \"template\": {\"data\": {\"bar\": [{\"error_x\": {\"color\": \"#2a3f5f\"}, \"error_y\": {\"color\": \"#2a3f5f\"}, \"marker\": {\"line\": {\"color\": \"#E5ECF6\", \"width\": 0.5}}, \"type\": \"bar\"}], \"barpolar\": [{\"marker\": {\"line\": {\"color\": \"#E5ECF6\", \"width\": 0.5}}, \"type\": \"barpolar\"}], \"carpet\": [{\"aaxis\": {\"endlinecolor\": \"#2a3f5f\", \"gridcolor\": \"white\", \"linecolor\": \"white\", \"minorgridcolor\": \"white\", \"startlinecolor\": \"#2a3f5f\"}, \"baxis\": {\"endlinecolor\": \"#2a3f5f\", \"gridcolor\": \"white\", \"linecolor\": \"white\", \"minorgridcolor\": \"white\", \"startlinecolor\": \"#2a3f5f\"}, \"type\": \"carpet\"}], \"choropleth\": [{\"colorbar\": {\"outlinewidth\": 0, \"ticks\": \"\"}, \"type\": \"choropleth\"}], \"contour\": [{\"colorbar\": {\"outlinewidth\": 0, \"ticks\": \"\"}, \"colorscale\": [[0.0, \"#0d0887\"], [0.1111111111111111, \"#46039f\"], [0.2222222222222222, \"#7201a8\"], [0.3333333333333333, \"#9c179e\"], [0.4444444444444444, \"#bd3786\"], [0.5555555555555556, \"#d8576b\"], [0.6666666666666666, \"#ed7953\"], [0.7777777777777778, \"#fb9f3a\"], [0.8888888888888888, \"#fdca26\"], [1.0, \"#f0f921\"]], \"type\": \"contour\"}], \"contourcarpet\": [{\"colorbar\": {\"outlinewidth\": 0, \"ticks\": \"\"}, \"type\": \"contourcarpet\"}], \"heatmap\": [{\"colorbar\": {\"outlinewidth\": 0, \"ticks\": \"\"}, \"colorscale\": [[0.0, \"#0d0887\"], [0.1111111111111111, \"#46039f\"], [0.2222222222222222, \"#7201a8\"], [0.3333333333333333, \"#9c179e\"], [0.4444444444444444, \"#bd3786\"], [0.5555555555555556, \"#d8576b\"], [0.6666666666666666, \"#ed7953\"], [0.7777777777777778, \"#fb9f3a\"], [0.8888888888888888, \"#fdca26\"], [1.0, \"#f0f921\"]], \"type\": \"heatmap\"}], \"heatmapgl\": [{\"colorbar\": {\"outlinewidth\": 0, \"ticks\": \"\"}, \"colorscale\": [[0.0, \"#0d0887\"], [0.1111111111111111, \"#46039f\"], [0.2222222222222222, \"#7201a8\"], [0.3333333333333333, \"#9c179e\"], [0.4444444444444444, \"#bd3786\"], [0.5555555555555556, \"#d8576b\"], [0.6666666666666666, \"#ed7953\"], [0.7777777777777778, \"#fb9f3a\"], [0.8888888888888888, \"#fdca26\"], [1.0, \"#f0f921\"]], \"type\": \"heatmapgl\"}], \"histogram\": [{\"marker\": {\"colorbar\": {\"outlinewidth\": 0, \"ticks\": \"\"}}, \"type\": \"histogram\"}], \"histogram2d\": [{\"colorbar\": {\"outlinewidth\": 0, \"ticks\": \"\"}, \"colorscale\": [[0.0, \"#0d0887\"], [0.1111111111111111, \"#46039f\"], [0.2222222222222222, \"#7201a8\"], [0.3333333333333333, \"#9c179e\"], [0.4444444444444444, \"#bd3786\"], [0.5555555555555556, \"#d8576b\"], [0.6666666666666666, \"#ed7953\"], [0.7777777777777778, \"#fb9f3a\"], [0.8888888888888888, \"#fdca26\"], [1.0, \"#f0f921\"]], \"type\": \"histogram2d\"}], \"histogram2dcontour\": [{\"colorbar\": {\"outlinewidth\": 0, \"ticks\": \"\"}, \"colorscale\": [[0.0, \"#0d0887\"], [0.1111111111111111, \"#46039f\"], [0.2222222222222222, \"#7201a8\"], [0.3333333333333333, \"#9c179e\"], [0.4444444444444444, \"#bd3786\"], [0.5555555555555556, \"#d8576b\"], [0.6666666666666666, \"#ed7953\"], [0.7777777777777778, \"#fb9f3a\"], [0.8888888888888888, \"#fdca26\"], [1.0, \"#f0f921\"]], \"type\": \"histogram2dcontour\"}], \"mesh3d\": [{\"colorbar\": {\"outlinewidth\": 0, \"ticks\": \"\"}, \"type\": \"mesh3d\"}], \"parcoords\": [{\"line\": {\"colorbar\": {\"outlinewidth\": 0, \"ticks\": \"\"}}, \"type\": \"parcoords\"}], \"pie\": [{\"automargin\": true, \"type\": \"pie\"}], \"scatter\": [{\"marker\": {\"colorbar\": {\"outlinewidth\": 0, \"ticks\": \"\"}}, \"type\": \"scatter\"}], \"scatter3d\": [{\"line\": {\"colorbar\": {\"outlinewidth\": 0, \"ticks\": \"\"}}, \"marker\": {\"colorbar\": {\"outlinewidth\": 0, \"ticks\": \"\"}}, \"type\": \"scatter3d\"}], \"scattercarpet\": [{\"marker\": {\"colorbar\": {\"outlinewidth\": 0, \"ticks\": \"\"}}, \"type\": \"scattercarpet\"}], \"scattergeo\": [{\"marker\": {\"colorbar\": {\"outlinewidth\": 0, \"ticks\": \"\"}}, \"type\": \"scattergeo\"}], \"scattergl\": [{\"marker\": {\"colorbar\": {\"outlinewidth\": 0, \"ticks\": \"\"}}, \"type\": \"scattergl\"}], \"scattermapbox\": [{\"marker\": {\"colorbar\": {\"outlinewidth\": 0, \"ticks\": \"\"}}, \"type\": \"scattermapbox\"}], \"scatterpolar\": [{\"marker\": {\"colorbar\": {\"outlinewidth\": 0, \"ticks\": \"\"}}, \"type\": \"scatterpolar\"}], \"scatterpolargl\": [{\"marker\": {\"colorbar\": {\"outlinewidth\": 0, \"ticks\": \"\"}}, \"type\": \"scatterpolargl\"}], \"scatterternary\": [{\"marker\": {\"colorbar\": {\"outlinewidth\": 0, \"ticks\": \"\"}}, \"type\": \"scatterternary\"}], \"surface\": [{\"colorbar\": {\"outlinewidth\": 0, \"ticks\": \"\"}, \"colorscale\": [[0.0, \"#0d0887\"], [0.1111111111111111, \"#46039f\"], [0.2222222222222222, \"#7201a8\"], [0.3333333333333333, \"#9c179e\"], [0.4444444444444444, \"#bd3786\"], [0.5555555555555556, \"#d8576b\"], [0.6666666666666666, \"#ed7953\"], [0.7777777777777778, \"#fb9f3a\"], [0.8888888888888888, \"#fdca26\"], [1.0, \"#f0f921\"]], \"type\": \"surface\"}], \"table\": [{\"cells\": {\"fill\": {\"color\": \"#EBF0F8\"}, \"line\": {\"color\": \"white\"}}, \"header\": {\"fill\": {\"color\": \"#C8D4E3\"}, \"line\": {\"color\": \"white\"}}, \"type\": \"table\"}]}, \"layout\": {\"annotationdefaults\": {\"arrowcolor\": \"#2a3f5f\", \"arrowhead\": 0, \"arrowwidth\": 1}, \"coloraxis\": {\"colorbar\": {\"outlinewidth\": 0, \"ticks\": \"\"}}, \"colorscale\": {\"diverging\": [[0, \"#8e0152\"], [0.1, \"#c51b7d\"], [0.2, \"#de77ae\"], [0.3, \"#f1b6da\"], [0.4, \"#fde0ef\"], [0.5, \"#f7f7f7\"], [0.6, \"#e6f5d0\"], [0.7, \"#b8e186\"], [0.8, \"#7fbc41\"], [0.9, \"#4d9221\"], [1, \"#276419\"]], \"sequential\": [[0.0, \"#0d0887\"], [0.1111111111111111, \"#46039f\"], [0.2222222222222222, \"#7201a8\"], [0.3333333333333333, \"#9c179e\"], [0.4444444444444444, \"#bd3786\"], [0.5555555555555556, \"#d8576b\"], [0.6666666666666666, \"#ed7953\"], [0.7777777777777778, \"#fb9f3a\"], [0.8888888888888888, \"#fdca26\"], [1.0, \"#f0f921\"]], \"sequentialminus\": [[0.0, \"#0d0887\"], [0.1111111111111111, \"#46039f\"], [0.2222222222222222, \"#7201a8\"], [0.3333333333333333, \"#9c179e\"], [0.4444444444444444, \"#bd3786\"], [0.5555555555555556, \"#d8576b\"], [0.6666666666666666, \"#ed7953\"], [0.7777777777777778, \"#fb9f3a\"], [0.8888888888888888, \"#fdca26\"], [1.0, \"#f0f921\"]]}, \"colorway\": [\"#636efa\", \"#EF553B\", \"#00cc96\", \"#ab63fa\", \"#FFA15A\", \"#19d3f3\", \"#FF6692\", \"#B6E880\", \"#FF97FF\", \"#FECB52\"], \"font\": {\"color\": \"#2a3f5f\"}, \"geo\": {\"bgcolor\": \"white\", \"lakecolor\": \"white\", \"landcolor\": \"#E5ECF6\", \"showlakes\": true, \"showland\": true, \"subunitcolor\": \"white\"}, \"hoverlabel\": {\"align\": \"left\"}, \"hovermode\": \"closest\", \"mapbox\": {\"style\": \"light\"}, \"paper_bgcolor\": \"white\", \"plot_bgcolor\": \"#E5ECF6\", \"polar\": {\"angularaxis\": {\"gridcolor\": \"white\", \"linecolor\": \"white\", \"ticks\": \"\"}, \"bgcolor\": \"#E5ECF6\", \"radialaxis\": {\"gridcolor\": \"white\", \"linecolor\": \"white\", \"ticks\": \"\"}}, \"scene\": {\"xaxis\": {\"backgroundcolor\": \"#E5ECF6\", \"gridcolor\": \"white\", \"gridwidth\": 2, \"linecolor\": \"white\", \"showbackground\": true, \"ticks\": \"\", \"zerolinecolor\": \"white\"}, \"yaxis\": {\"backgroundcolor\": \"#E5ECF6\", \"gridcolor\": \"white\", \"gridwidth\": 2, \"linecolor\": \"white\", \"showbackground\": true, \"ticks\": \"\", \"zerolinecolor\": \"white\"}, \"zaxis\": {\"backgroundcolor\": \"#E5ECF6\", \"gridcolor\": \"white\", \"gridwidth\": 2, \"linecolor\": \"white\", \"showbackground\": true, \"ticks\": \"\", \"zerolinecolor\": \"white\"}}, \"shapedefaults\": {\"line\": {\"color\": \"#2a3f5f\"}}, \"ternary\": {\"aaxis\": {\"gridcolor\": \"white\", \"linecolor\": \"white\", \"ticks\": \"\"}, \"baxis\": {\"gridcolor\": \"white\", \"linecolor\": \"white\", \"ticks\": \"\"}, \"bgcolor\": \"#E5ECF6\", \"caxis\": {\"gridcolor\": \"white\", \"linecolor\": \"white\", \"ticks\": \"\"}}, \"title\": {\"x\": 0.05}, \"xaxis\": {\"automargin\": true, \"gridcolor\": \"white\", \"linecolor\": \"white\", \"ticks\": \"\", \"title\": {\"standoff\": 15}, \"zerolinecolor\": \"white\", \"zerolinewidth\": 2}, \"yaxis\": {\"automargin\": true, \"gridcolor\": \"white\", \"linecolor\": \"white\", \"ticks\": \"\", \"title\": {\"standoff\": 15}, \"zerolinecolor\": \"white\", \"zerolinewidth\": 2}}}, \"title\": {\"text\": \"Count of recipes per cuisine\"}, \"xaxis\": {\"tickfont\": {\"size\": 14}, \"title\": {\"text\": \"Recipe count\"}}, \"yaxis\": {\"tickfont\": {\"size\": 14}, \"title\": {\"font\": {\"size\": 16}, \"text\": \"Cuisine\"}}},\n",
              "                        {\"responsive\": true}\n",
              "                    ).then(function(){\n",
              "                            \n",
              "var gd = document.getElementById('35c44348-1443-4060-9793-6b222f48a45a');\n",
              "var x = new MutationObserver(function (mutations, observer) {{\n",
              "        var display = window.getComputedStyle(gd).display;\n",
              "        if (!display || display === 'none') {{\n",
              "            console.log([gd, 'removed!']);\n",
              "            Plotly.purge(gd);\n",
              "            observer.disconnect();\n",
              "        }}\n",
              "}});\n",
              "\n",
              "// Listen for the removal of the full notebook cells\n",
              "var notebookContainer = gd.closest('#notebook-container');\n",
              "if (notebookContainer) {{\n",
              "    x.observe(notebookContainer, {childList: true});\n",
              "}}\n",
              "\n",
              "// Listen for the clearing of the current output cell\n",
              "var outputEl = gd.closest('.output');\n",
              "if (outputEl) {{\n",
              "    x.observe(outputEl, {childList: true});\n",
              "}}\n",
              "\n",
              "                        })\n",
              "                };\n",
              "                \n",
              "            </script>\n",
              "        </div>\n",
              "</body>\n",
              "</html>"
            ]
          },
          "metadata": {
            "tags": []
          }
        }
      ]
    },
    {
      "cell_type": "code",
      "metadata": {
        "id": "J2i9tQQW7LOY",
        "colab_type": "code",
        "outputId": "67cb7a01-ac0d-4cf3-804d-2e31fa5dd6e9",
        "colab": {
          "base_uri": "https://localhost:8080/",
          "height": 238
        }
      },
      "source": [
        "train['x'] = train['ingredients'].progress_apply(lambda ingredients: preprocess(ingredients))\n",
        "test['x'] = test['ingredients'].progress_apply(lambda ingredients: preprocess(ingredients))\n",
        "train.head()"
      ],
      "execution_count": 11,
      "outputs": [
        {
          "output_type": "stream",
          "text": [
            "100%|██████████| 39774/39774 [00:05<00:00, 6889.64it/s]\n",
            "100%|██████████| 9944/9944 [00:01<00:00, 9535.43it/s]\n"
          ],
          "name": "stderr"
        },
        {
          "output_type": "execute_result",
          "data": {
            "text/html": [
              "<div>\n",
              "<style scoped>\n",
              "    .dataframe tbody tr th:only-of-type {\n",
              "        vertical-align: middle;\n",
              "    }\n",
              "\n",
              "    .dataframe tbody tr th {\n",
              "        vertical-align: top;\n",
              "    }\n",
              "\n",
              "    .dataframe thead th {\n",
              "        text-align: right;\n",
              "    }\n",
              "</style>\n",
              "<table border=\"1\" class=\"dataframe\">\n",
              "  <thead>\n",
              "    <tr style=\"text-align: right;\">\n",
              "      <th></th>\n",
              "      <th>id</th>\n",
              "      <th>cuisine</th>\n",
              "      <th>ingredients</th>\n",
              "      <th>x</th>\n",
              "    </tr>\n",
              "  </thead>\n",
              "  <tbody>\n",
              "    <tr>\n",
              "      <th>0</th>\n",
              "      <td>10259</td>\n",
              "      <td>greek</td>\n",
              "      <td>[romaine lettuce, black olives, grape tomatoes...</td>\n",
              "      <td>romaine lettuce black olive grape tomato garli...</td>\n",
              "    </tr>\n",
              "    <tr>\n",
              "      <th>1</th>\n",
              "      <td>25693</td>\n",
              "      <td>southern_us</td>\n",
              "      <td>[plain flour, ground pepper, salt, tomatoes, g...</td>\n",
              "      <td>plain flour ground pepper salt tomato ground b...</td>\n",
              "    </tr>\n",
              "    <tr>\n",
              "      <th>2</th>\n",
              "      <td>20130</td>\n",
              "      <td>filipino</td>\n",
              "      <td>[eggs, pepper, salt, mayonaise, cooking oil, g...</td>\n",
              "      <td>egg pepper salt mayonaise cooking oil green ch...</td>\n",
              "    </tr>\n",
              "    <tr>\n",
              "      <th>3</th>\n",
              "      <td>22213</td>\n",
              "      <td>indian</td>\n",
              "      <td>[water, vegetable oil, wheat, salt]</td>\n",
              "      <td>water vegetable oil wheat salt</td>\n",
              "    </tr>\n",
              "    <tr>\n",
              "      <th>4</th>\n",
              "      <td>13162</td>\n",
              "      <td>indian</td>\n",
              "      <td>[black pepper, shallots, cornflour, cayenne pe...</td>\n",
              "      <td>black pepper shallot cornflour cayenne pepper ...</td>\n",
              "    </tr>\n",
              "  </tbody>\n",
              "</table>\n",
              "</div>"
            ],
            "text/plain": [
              "      id  ...                                                  x\n",
              "0  10259  ...  romaine lettuce black olive grape tomato garli...\n",
              "1  25693  ...  plain flour ground pepper salt tomato ground b...\n",
              "2  20130  ...  egg pepper salt mayonaise cooking oil green ch...\n",
              "3  22213  ...                     water vegetable oil wheat salt\n",
              "4  13162  ...  black pepper shallot cornflour cayenne pepper ...\n",
              "\n",
              "[5 rows x 4 columns]"
            ]
          },
          "metadata": {
            "tags": []
          },
          "execution_count": 11
        }
      ]
    },
    {
      "cell_type": "code",
      "metadata": {
        "id": "RVCH9zloZsm4",
        "colab_type": "code",
        "colab": {}
      },
      "source": [
        "tfid_vectorizer = make_pipeline(\n",
        "    TfidfVectorizer(sublinear_tf=True),\n",
        "    FunctionTransformer(lambda x: x.astype('float'), validate=False)\n",
        ")\n",
        "\n",
        "counter_vectorizer = make_pipeline(\n",
        "    CountVectorizer(),\n",
        "    FunctionTransformer(lambda x: x.astype('float'), validate=False)\n",
        ")\n",
        "\n",
        "hash_vectorizer = make_pipeline(\n",
        "    HashingVectorizer(),\n",
        "    FunctionTransformer(lambda x: x.astype('float'), validate=False)\n",
        ")"
      ],
      "execution_count": 0,
      "outputs": []
    },
    {
      "cell_type": "code",
      "metadata": {
        "id": "zp9Fs3FjdkIq",
        "colab_type": "code",
        "colab": {}
      },
      "source": [
        "x_train_tfid = tfid_vectorizer.fit_transform(train['x'].values)\n",
        "x_train_tfid.sort_indices()\n",
        "x_test_tfid = tfid_vectorizer.transform(test['x'].values)\n",
        "\n",
        "x_train_counter = counter_vectorizer.fit_transform(train['x'].values)\n",
        "x_train_counter.sort_indices()\n",
        "x_test_counter = counter_vectorizer.transform(test['x'].values)\n",
        "\n",
        "x_train_hash = hash_vectorizer.fit_transform(train['x'].values)\n",
        "x_train_hash.sort_indices()\n",
        "x_test_hash = hash_vectorizer.transform(test['x'].values)"
      ],
      "execution_count": 0,
      "outputs": []
    },
    {
      "cell_type": "code",
      "metadata": {
        "id": "x1GKt2m1fQC0",
        "colab_type": "code",
        "colab": {}
      },
      "source": [
        "label_encoder = LabelEncoder()\n",
        "y_train = label_encoder.fit_transform(train['cuisine'].values)"
      ],
      "execution_count": 0,
      "outputs": []
    },
    {
      "cell_type": "code",
      "metadata": {
        "id": "61-N1gJ9OViz",
        "colab_type": "code",
        "colab": {}
      },
      "source": [
        "tfid_x70_train, tfid_x70_test, tfid_y70_train, tfid_y70_test = train_test_split(x_train_tfid, y_train, test_size=0.3, random_state = 0, stratify=y_train)\n",
        "counter_x70_train, counter_x70_test, counter_y70_train, counter_y70_test = train_test_split(x_train_counter, y_train, test_size=0.3, random_state = 0, stratify=y_train)\n",
        "hash_x70_train, hash_x70_test, hash_y70_train, hash_y70_test = train_test_split(x_train_hash, y_train, test_size=0.3, random_state = 0, stratify=y_train)"
      ],
      "execution_count": 0,
      "outputs": []
    },
    {
      "cell_type": "code",
      "metadata": {
        "id": "CkkcnEsufvk_",
        "colab_type": "code",
        "outputId": "c08a81a7-d560-45db-a31c-6b5601ff6618",
        "colab": {
          "base_uri": "https://localhost:8080/",
          "height": 68
        }
      },
      "source": [
        "baseModelComparision(tfid_x70_train, tfid_y70_train)"
      ],
      "execution_count": 0,
      "outputs": [
        {
          "output_type": "stream",
          "text": [
            "4 [0.79886864 0.80817096 0.80125707 0.79748586 0.80575811]\n",
            "2 [0.74758014 0.75675676 0.74644877 0.74494029 0.75496605]\n",
            "3 [0.02778127 0.03293526 0.08736644 0.01181647 0.01106362]\n"
          ],
          "name": "stdout"
        }
      ]
    },
    {
      "cell_type": "code",
      "metadata": {
        "id": "8arlqeWHrEFQ",
        "colab_type": "code",
        "outputId": "6a668ef6-3c32-4377-d5bb-2221e8f4d4a2",
        "colab": {
          "base_uri": "https://localhost:8080/",
          "height": 68
        }
      },
      "source": [
        "baseModelComparision(counter_x70_train, counter_y70_train)"
      ],
      "execution_count": 0,
      "outputs": [
        {
          "output_type": "stream",
          "text": [
            "4 [0.7787555  0.78416091 0.77649277 0.77686989 0.78275082]\n",
            "2 [0.75901948 0.76555625 0.76065368 0.74934004 0.76489816]\n",
            "3 [0.02903834 0.03758642 0.07894406 0.11225644 0.04010561]\n"
          ],
          "name": "stdout"
        }
      ]
    },
    {
      "cell_type": "code",
      "metadata": {
        "id": "EwqOgomuGn8i",
        "colab_type": "code",
        "outputId": "9ed8d044-d239-4e1b-ce64-c459dbccb26f",
        "colab": {
          "base_uri": "https://localhost:8080/",
          "height": 34
        }
      },
      "source": [
        "baseModelComparision(hash_x70_train, hash_x70_test)"
      ],
      "execution_count": 0,
      "outputs": [
        {
          "output_type": "stream",
          "text": [
            "4 [0.78491515 0.79208045 0.78516656 0.78390949 0.79067136]\n"
          ],
          "name": "stdout"
        }
      ]
    },
    {
      "cell_type": "code",
      "metadata": {
        "id": "COb0f08pGstb",
        "colab_type": "code",
        "outputId": "c8a1bd57-1df0-4ee0-ed97-001dcb2a9a5c",
        "colab": {
          "base_uri": "https://localhost:8080/",
          "height": 34
        }
      },
      "source": [
        "test(x_train_tfid, y_train, x_test_tfid)"
      ],
      "execution_count": 0,
      "outputs": [
        {
          "output_type": "stream",
          "text": [
            "accuracy score on train data: 0.9996228692110424\n"
          ],
          "name": "stdout"
        }
      ]
    },
    {
      "cell_type": "code",
      "metadata": {
        "id": "SCY9m50ue3JS",
        "colab_type": "code",
        "outputId": "e3550200-8a84-439d-dbfd-a2fb6b17e0b9",
        "colab": {
          "base_uri": "https://localhost:8080/",
          "height": 430
        }
      },
      "source": [
        "compareAccuracy(x_train_tfid, y_train)"
      ],
      "execution_count": 0,
      "outputs": [
        {
          "output_type": "stream",
          "text": [
            "\n",
            "Compare Multiple Classifiers: \n",
            "\n",
            "K-Fold Cross-Validation Accuracy: \n",
            "\n",
            "LR: 0.785538 (0.007259)\n",
            "LSVM: 0.792477 (0.006236)\n",
            "RF: 0.753885 (0.005074)\n"
          ],
          "name": "stdout"
        },
        {
          "output_type": "display_data",
          "data": {
            "image/png": "[encoded data removed]",
            "text/plain": [
              "<Figure size 432x288 with 1 Axes>"
            ]
          },
          "metadata": {
            "tags": [],
            "needs_background": "light"
          }
        }
      ]
    },
    {
      "cell_type": "code",
      "metadata": {
        "id": "2mMUb3GHWkNz",
        "colab_type": "code",
        "colab": {
          "base_uri": "https://localhost:8080/",
          "height": 1000
        },
        "outputId": "5f25547c-14ff-4f9f-9127-c80e366306f8"
      },
      "source": [
        " parameterTuning(tfid_x70_train, tfid_y70_train)"
      ],
      "execution_count": 0,
      "outputs": [
        {
          "output_type": "stream",
          "text": [
            "Random Forest\n",
            "n_estimators: 100, min_samples_split: 2, max_depth: 5, min_samples_leaf: 1\n",
            "[0.44011492 0.43031609 0.42798132 0.44665948 0.44953305]\n",
            "n_estimators: 100, min_samples_split: 2, max_depth: 5, min_samples_leaf: 2\n",
            "[0.4433471  0.43929598 0.44486351 0.43193247 0.43193247]\n",
            "n_estimators: 100, min_samples_split: 2, max_depth: 5, min_samples_leaf: 5\n",
            "[0.4340097  0.42905891 0.43265086 0.4527658  0.4533046 ]\n",
            "n_estimators: 100, min_samples_split: 2, max_depth: 5, min_samples_leaf: 10\n",
            "[0.43490752 0.42798132 0.43031609 0.42726293 0.4450431 ]\n",
            "n_estimators: 100, min_samples_split: 2, max_depth: 8, min_samples_leaf: 1\n",
            "[0.50817023 0.48958333 0.50682471 0.50700431 0.51346983]\n",
            "n_estimators: 100, min_samples_split: 2, max_depth: 8, min_samples_leaf: 2\n",
            "[0.50619501 0.48814655 0.49892241 0.50880029 0.50520833]\n",
            "n_estimators: 100, min_samples_split: 2, max_depth: 8, min_samples_leaf: 5\n",
            "[0.50906806 0.48922414 0.50125718 0.50269397 0.50574713]\n",
            "n_estimators: 100, min_samples_split: 2, max_depth: 8, min_samples_leaf: 10\n",
            "[0.50098761 0.49586925 0.49443247 0.49425287 0.4996408 ]\n",
            "n_estimators: 100, min_samples_split: 2, max_depth: 15, min_samples_leaf: 1\n",
            "[0.59112947 0.59177443 0.58494971 0.5935704  0.59375   ]\n",
            "n_estimators: 100, min_samples_split: 2, max_depth: 15, min_samples_leaf: 2\n",
            "[0.58197163 0.58171695 0.58063937 0.58441092 0.58961925]\n",
            "n_estimators: 100, min_samples_split: 2, max_depth: 15, min_samples_leaf: 5\n",
            "[0.58251033 0.57147989 0.57561063 0.57614943 0.57579023]\n",
            "n_estimators: 100, min_samples_split: 2, max_depth: 15, min_samples_leaf: 10\n",
            "[0.57155683 0.55854885 0.56483477 0.56770833 0.57399425]\n",
            "n_estimators: 100, min_samples_split: 2, max_depth: 25, min_samples_leaf: 1\n",
            "[0.66672652 0.66792385 0.66307471 0.66864224 0.66918103]\n",
            "n_estimators: 100, min_samples_split: 2, max_depth: 25, min_samples_leaf: 2\n",
            "[0.6595439  0.65301724 0.65391523 0.65804598 0.6566092 ]\n",
            "n_estimators: 100, min_samples_split: 2, max_depth: 25, min_samples_leaf: 5\n",
            "[0.63835518 0.62966954 0.63344109 0.63721264 0.64224138]\n",
            "n_estimators: 100, min_samples_split: 2, max_depth: 25, min_samples_leaf: 10\n",
            "[0.61698689 0.60865661 0.61188937 0.61314655 0.62033046]\n",
            "n_estimators: 100, min_samples_split: 2, max_depth: 30, min_samples_leaf: 1\n",
            "[0.68773568 0.68336925 0.68875718 0.68965517 0.6878592 ]\n",
            "n_estimators: 100, min_samples_split: 2, max_depth: 30, min_samples_leaf: 2\n",
            "[0.67355001 0.67079741 0.67043822 0.67420977 0.67672414]\n",
            "n_estimators: 100, min_samples_split: 2, max_depth: 30, min_samples_leaf: 5\n",
            "[0.65254085 0.64565374 0.6487069  0.6566092  0.65104167]\n",
            "n_estimators: 100, min_samples_split: 2, max_depth: 30, min_samples_leaf: 10\n",
            "[0.62776082 0.6246408  0.62068966 0.62895115 0.62787356]\n",
            "n_estimators: 100, min_samples_split: 5, max_depth: 5, min_samples_leaf: 1\n",
            "[0.44568145 0.43947557 0.43157328 0.43588362 0.43983477]\n",
            "n_estimators: 100, min_samples_split: 5, max_depth: 5, min_samples_leaf: 2\n",
            "[0.4340097  0.43121408 0.42061782 0.43588362 0.45581897]\n",
            "n_estimators: 100, min_samples_split: 5, max_depth: 5, min_samples_leaf: 5\n",
            "[0.44209014 0.44109195 0.43408764 0.44342672 0.44845546]\n",
            "n_estimators: 100, min_samples_split: 5, max_depth: 5, min_samples_leaf: 10\n",
            "[0.42772491 0.43678161 0.43103448 0.43570402 0.4452227 ]\n",
            "n_estimators: 100, min_samples_split: 5, max_depth: 8, min_samples_leaf: 1\n",
            "[0.50332196 0.49622845 0.49533046 0.50844109 0.49658764]\n",
            "n_estimators: 100, min_samples_split: 5, max_depth: 8, min_samples_leaf: 2\n",
            "[0.50278326 0.49712644 0.50251437 0.50844109 0.51293103]\n",
            "n_estimators: 100, min_samples_split: 5, max_depth: 8, min_samples_leaf: 5\n",
            "[0.50655414 0.49802443 0.49389368 0.50736351 0.50538793]\n",
            "n_estimators: 100, min_samples_split: 5, max_depth: 8, min_samples_leaf: 10\n",
            "[0.50332196 0.49048132 0.49407328 0.49730603 0.5080819 ]\n",
            "n_estimators: 100, min_samples_split: 5, max_depth: 15, min_samples_leaf: 1\n",
            "[0.59256599 0.58387213 0.5856681  0.58512931 0.59698276]\n",
            "n_estimators: 100, min_samples_split: 5, max_depth: 15, min_samples_leaf: 2\n",
            "[0.59166816 0.57614943 0.58459052 0.58477011 0.59680316]\n",
            "n_estimators: 100, min_samples_split: 5, max_depth: 15, min_samples_leaf: 5\n",
            "[0.58879512 0.56752874 0.57201868 0.57489224 0.5858477 ]\n",
            "n_estimators: 100, min_samples_split: 5, max_depth: 15, min_samples_leaf: 10\n",
            "[0.57209553 0.56124282 0.56716954 0.56716954 0.56609195]\n",
            "n_estimators: 100, min_samples_split: 5, max_depth: 25, min_samples_leaf: 1\n",
            "[0.66259652 0.66289511 0.66540948 0.66702586 0.67259339]\n",
            "n_estimators: 100, min_samples_split: 5, max_depth: 25, min_samples_leaf: 2\n",
            "[0.65415694 0.65499282 0.65840517 0.65858477 0.65696839]\n",
            "n_estimators: 100, min_samples_split: 5, max_depth: 25, min_samples_leaf: 5\n",
            "[0.64266475 0.62984914 0.6325431  0.64278017 0.64134339]\n",
            "n_estimators: 100, min_samples_split: 5, max_depth: 25, min_samples_leaf: 10\n",
            "[0.6164482  0.61278736 0.61063218 0.61799569 0.6169181 ]\n",
            "n_estimators: 100, min_samples_split: 5, max_depth: 30, min_samples_leaf: 1\n",
            "[0.68719698 0.68247126 0.68211207 0.68588362 0.68265086]\n",
            "n_estimators: 100, min_samples_split: 5, max_depth: 30, min_samples_leaf: 2\n",
            "[0.67624349 0.66971983 0.66594828 0.6722342  0.67313218]\n",
            "n_estimators: 100, min_samples_split: 5, max_depth: 30, min_samples_leaf: 5\n",
            "[0.65451607 0.64547414 0.64655172 0.65140086 0.65445402]\n",
            "n_estimators: 100, min_samples_split: 5, max_depth: 30, min_samples_leaf: 10\n",
            "[0.62345125 0.62392241 0.62140805 0.62643678 0.62571839]\n",
            "n_estimators: 100, min_samples_split: 10, max_depth: 5, min_samples_leaf: 1\n",
            "[0.44226971 0.43229167 0.42618534 0.43893678 0.44576149]\n",
            "n_estimators: 100, min_samples_split: 10, max_depth: 5, min_samples_leaf: 2\n",
            "[0.42090142 0.43121408 0.43211207 0.43462644 0.45061063]\n",
            "n_estimators: 100, min_samples_split: 10, max_depth: 5, min_samples_leaf: 5\n",
            "[0.43652361 0.42852011 0.43229167 0.4375     0.4378592 ]\n",
            "n_estimators: 100, min_samples_split: 10, max_depth: 5, min_samples_leaf: 10\n",
            "[0.43275274 0.43965517 0.42923851 0.43175287 0.43013649]\n",
            "n_estimators: 100, min_samples_split: 10, max_depth: 8, min_samples_leaf: 1\n",
            "[0.49703717 0.49694684 0.50377155 0.50233477 0.51131466]\n",
            "n_estimators: 100, min_samples_split: 10, max_depth: 8, min_samples_leaf: 2\n",
            "[0.50637457 0.49137931 0.49892241 0.50269397 0.50646552]\n",
            "n_estimators: 100, min_samples_split: 10, max_depth: 8, min_samples_leaf: 5\n",
            "[0.5078111  0.49066092 0.49622845 0.50215517 0.51059626]\n",
            "n_estimators: 100, min_samples_split: 10, max_depth: 8, min_samples_leaf: 10\n",
            "[0.49667804 0.49012213 0.48653017 0.50143678 0.5077227 ]\n",
            "n_estimators: 100, min_samples_split: 10, max_depth: 15, min_samples_leaf: 1\n",
            "[0.59418208 0.58800287 0.58099856 0.58872126 0.59662356]\n",
            "n_estimators: 100, min_samples_split: 10, max_depth: 15, min_samples_leaf: 2\n",
            "[0.5909499  0.58010057 0.57650862 0.59051724 0.59231322]\n",
            "n_estimators: 100, min_samples_split: 10, max_depth: 15, min_samples_leaf: 5\n",
            "[0.58430598 0.57273707 0.57632902 0.57632902 0.58135776]\n",
            "n_estimators: 100, min_samples_split: 10, max_depth: 15, min_samples_leaf: 10\n",
            "[0.57676423 0.56519397 0.56088362 0.5628592  0.57255747]\n",
            "n_estimators: 100, min_samples_split: 10, max_depth: 25, min_samples_leaf: 1\n",
            "[0.66726522 0.65858477 0.66073994 0.66666667 0.67007902]\n",
            "n_estimators: 100, min_samples_split: 10, max_depth: 25, min_samples_leaf: 2\n",
            "[0.65523433 0.65176006 0.65014368 0.65804598 0.65373563]\n",
            "n_estimators: 100, min_samples_split: 10, max_depth: 25, min_samples_leaf: 5\n",
            "[0.63709822 0.6330819  0.63649425 0.63936782 0.63972701]\n",
            "n_estimators: 100, min_samples_split: 10, max_depth: 25, min_samples_leaf: 10\n",
            "[0.61519124 0.60991379 0.61422414 0.61530172 0.61799569]\n",
            "n_estimators: 100, min_samples_split: 10, max_depth: 30, min_samples_leaf: 1\n",
            "[0.68737655 0.67869971 0.68390805 0.68103448 0.68354885]\n",
            "n_estimators: 100, min_samples_split: 10, max_depth: 30, min_samples_leaf: 2\n",
            "[0.67247262 0.66828305 0.67708333 0.6722342  0.67277299]\n",
            "n_estimators: 100, min_samples_split: 10, max_depth: 30, min_samples_leaf: 5\n",
            "[0.64841085 0.6483477  0.64924569 0.65391523 0.64942529]\n",
            "n_estimators: 100, min_samples_split: 10, max_depth: 30, min_samples_leaf: 10\n",
            "[0.63027474 0.6253592  0.62212644 0.62913075 0.62625718]\n",
            "n_estimators: 100, min_samples_split: 15, max_depth: 5, min_samples_leaf: 1\n",
            "[0.44226971 0.42115661 0.42564655 0.43857759 0.44737787]\n",
            "n_estimators: 100, min_samples_split: 15, max_depth: 5, min_samples_leaf: 2\n",
            "[0.43167535 0.4294181  0.43498563 0.43965517 0.45204741]\n",
            "n_estimators: 100, min_samples_split: 15, max_depth: 5, min_samples_leaf: 5\n",
            "[0.45035015 0.4297773  0.4375     0.44037356 0.44342672]\n",
            "n_estimators: 100, min_samples_split: 15, max_depth: 5, min_samples_leaf: 10\n",
            "[0.43203448 0.42923851 0.43678161 0.42762213 0.44899425]\n",
            "n_estimators: 100, min_samples_split: 15, max_depth: 8, min_samples_leaf: 1\n",
            "[0.51014545 0.49353448 0.49802443 0.50682471 0.51203305]\n",
            "n_estimators: 100, min_samples_split: 15, max_depth: 8, min_samples_leaf: 2\n",
            "[0.49919196 0.48994253 0.49766523 0.49856322 0.51167385]\n",
            "n_estimators: 100, min_samples_split: 15, max_depth: 8, min_samples_leaf: 5\n",
            "[0.50691327 0.49335489 0.49389368 0.50197557 0.50933908]\n",
            "n_estimators: 100, min_samples_split: 15, max_depth: 8, min_samples_leaf: 10\n",
            "[0.5078111  0.48724856 0.49353448 0.49694684 0.50520833]\n",
            "n_estimators: 100, min_samples_split: 15, max_depth: 15, min_samples_leaf: 1\n",
            "[0.58699946 0.57956178 0.58477011 0.5862069  0.59662356]\n",
            "n_estimators: 100, min_samples_split: 15, max_depth: 15, min_samples_leaf: 2\n",
            "[0.58933381 0.5858477  0.58010057 0.58333333 0.59051724]\n",
            "n_estimators: 100, min_samples_split: 15, max_depth: 15, min_samples_leaf: 5\n",
            "[0.58215119 0.57453305 0.57381466 0.57920259 0.5856681 ]\n",
            "n_estimators: 100, min_samples_split: 15, max_depth: 15, min_samples_leaf: 10\n",
            "[0.57658467 0.56483477 0.56052443 0.56788793 0.57219828]\n",
            "n_estimators: 100, min_samples_split: 15, max_depth: 25, min_samples_leaf: 1\n",
            "[0.6647513  0.65732759 0.65804598 0.6558908  0.66091954]\n",
            "n_estimators: 100, min_samples_split: 15, max_depth: 25, min_samples_leaf: 2\n",
            "[0.65774825 0.6487069  0.65068247 0.65445402 0.65337644]\n",
            "n_estimators: 100, min_samples_split: 15, max_depth: 25, min_samples_leaf: 5\n",
            "[0.63961214 0.63397989 0.63487787 0.63721264 0.6404454 ]\n",
            "n_estimators: 100, min_samples_split: 15, max_depth: 25, min_samples_leaf: 10\n",
            "[0.61788472 0.61206897 0.61512213 0.6172773  0.62248563]\n",
            "n_estimators: 100, min_samples_split: 15, max_depth: 30, min_samples_leaf: 1\n",
            "[0.68198959 0.67672414 0.68265086 0.68229167 0.67420977]\n",
            "n_estimators: 100, min_samples_split: 15, max_depth: 30, min_samples_leaf: 2\n",
            "[0.6699587  0.66846264 0.67115661 0.67403017 0.6716954 ]\n",
            "n_estimators: 100, min_samples_split: 15, max_depth: 30, min_samples_leaf: 5\n",
            "[0.65038607 0.65086207 0.65391523 0.65481322 0.65068247]\n",
            "n_estimators: 100, min_samples_split: 15, max_depth: 30, min_samples_leaf: 10\n",
            "[0.62381038 0.62302443 0.62374282 0.62913075 0.62984914]\n",
            "n_estimators: 100, min_samples_split: 100, max_depth: 5, min_samples_leaf: 1\n",
            "[0.44729754 0.41720546 0.44288793 0.43803879 0.45366379]\n",
            "n_estimators: 100, min_samples_split: 100, max_depth: 5, min_samples_leaf: 2\n",
            "[0.42898186 0.43696121 0.44091236 0.44378592 0.43139368]\n",
            "n_estimators: 100, min_samples_split: 100, max_depth: 5, min_samples_leaf: 5\n",
            "[0.4282636  0.43516523 0.43265086 0.43498563 0.45941092]\n",
            "n_estimators: 100, min_samples_split: 100, max_depth: 5, min_samples_leaf: 10\n",
            "[0.42108098 0.43354885 0.42887931 0.42097701 0.43301006]\n",
            "n_estimators: 100, min_samples_split: 100, max_depth: 8, min_samples_leaf: 1\n",
            "[0.50475848 0.49353448 0.49892241 0.50431034 0.50682471]\n",
            "n_estimators: 100, min_samples_split: 100, max_depth: 8, min_samples_leaf: 2\n",
            "[0.51140241 0.49119971 0.49317529 0.50718391 0.50143678]\n",
            "n_estimators: 100, min_samples_split: 100, max_depth: 8, min_samples_leaf: 5\n",
            "[0.50116718 0.49568966 0.49479167 0.5        0.5075431 ]\n",
            "n_estimators: 100, min_samples_split: 100, max_depth: 8, min_samples_leaf: 10\n",
            "[0.49973065 0.48688937 0.48545259 0.50359195 0.49946121]\n",
            "n_estimators: 100, min_samples_split: 100, max_depth: 15, min_samples_leaf: 1\n",
            "[0.58646076 0.57579023 0.57435345 0.57435345 0.58189655]\n",
            "n_estimators: 100, min_samples_split: 100, max_depth: 15, min_samples_leaf: 2\n",
            "[0.58268989 0.57614943 0.57668822 0.57507184 0.58854167]\n",
            "n_estimators: 100, min_samples_split: 100, max_depth: 15, min_samples_leaf: 5\n",
            "[0.58179206 0.56411638 0.56806753 0.57596983 0.57596983]\n",
            "n_estimators: 100, min_samples_split: 100, max_depth: 15, min_samples_leaf: 10\n",
            "[0.57155683 0.55908764 0.55836925 0.56591236 0.56627155]\n",
            "n_estimators: 100, min_samples_split: 100, max_depth: 25, min_samples_leaf: 1\n",
            "[0.63763692 0.63882902 0.64170259 0.640625   0.64475575]\n",
            "n_estimators: 100, min_samples_split: 100, max_depth: 25, min_samples_leaf: 2\n",
            "[0.63889388 0.63164511 0.63362069 0.64601293 0.6483477 ]\n",
            "n_estimators: 100, min_samples_split: 100, max_depth: 25, min_samples_leaf: 5\n",
            "[0.62973604 0.6251796  0.62428161 0.63020833 0.63487787]\n",
            "n_estimators: 100, min_samples_split: 100, max_depth: 25, min_samples_leaf: 10\n",
            "[0.60998384 0.60632184 0.60470546 0.61242816 0.61655891]\n",
            "n_estimators: 100, min_samples_split: 100, max_depth: 30, min_samples_leaf: 1\n",
            "[0.66044173 0.65427443 0.65499282 0.66163793 0.65732759]\n",
            "n_estimators: 100, min_samples_split: 100, max_depth: 30, min_samples_leaf: 2\n",
            "[0.65236129 0.64942529 0.65481322 0.65535201 0.65840517]\n",
            "n_estimators: 100, min_samples_split: 100, max_depth: 30, min_samples_leaf: 5\n",
            "[0.64661519 0.63775144 0.64116379 0.64278017 0.64134339]\n",
            "n_estimators: 100, min_samples_split: 100, max_depth: 30, min_samples_leaf: 10\n",
            "[0.62596516 0.62266523 0.6248204  0.62571839 0.62266523]\n",
            "---------------------------------\n",
            "\n",
            "n_estimators: 300, min_samples_split: 2, max_depth: 5, min_samples_leaf: 1\n",
            "[0.44029449 0.43803879 0.43516523 0.44719828 0.4450431 ]\n",
            "n_estimators: 300, min_samples_split: 2, max_depth: 5, min_samples_leaf: 2\n",
            "[0.43724187 0.4373204  0.43660201 0.43426724 0.44576149]\n",
            "n_estimators: 300, min_samples_split: 2, max_depth: 5, min_samples_leaf: 5\n",
            "[0.44622015 0.42923851 0.43336925 0.44127155 0.44378592]\n",
            "n_estimators: 300, min_samples_split: 2, max_depth: 5, min_samples_leaf: 10\n",
            "[0.44011492 0.43139368 0.43426724 0.43893678 0.45420259]\n",
            "n_estimators: 300, min_samples_split: 2, max_depth: 8, min_samples_leaf: 1\n",
            "[0.50942719 0.50143678 0.49856322 0.50592672 0.51185345]\n",
            "n_estimators: 300, min_samples_split: 2, max_depth: 8, min_samples_leaf: 2\n",
            "[0.50709284 0.49515086 0.4924569  0.50502874 0.5077227 ]\n",
            "n_estimators: 300, min_samples_split: 2, max_depth: 8, min_samples_leaf: 5\n",
            "[0.5067337  0.49694684 0.49784483 0.50466954 0.51005747]\n",
            "n_estimators: 300, min_samples_split: 2, max_depth: 8, min_samples_leaf: 10\n",
            "[0.50745197 0.49066092 0.49389368 0.50143678 0.50987787]\n",
            "n_estimators: 300, min_samples_split: 2, max_depth: 15, min_samples_leaf: 1\n",
            "[0.6013647  0.5858477  0.58746408 0.59087644 0.59536638]\n",
            "n_estimators: 300, min_samples_split: 2, max_depth: 15, min_samples_leaf: 2\n",
            "[0.59112947 0.58099856 0.58369253 0.5858477  0.59590517]\n",
            "n_estimators: 300, min_samples_split: 2, max_depth: 15, min_samples_leaf: 5\n",
            "[0.58646076 0.57381466 0.57453305 0.57884339 0.58728448]\n",
            "n_estimators: 300, min_samples_split: 2, max_depth: 15, min_samples_leaf: 10\n",
            "[0.57389118 0.56393678 0.56573276 0.56824713 0.5700431 ]\n",
            "n_estimators: 300, min_samples_split: 2, max_depth: 25, min_samples_leaf: 1\n",
            "[0.66924044 0.66756466 0.67097701 0.66846264 0.67582615]\n",
            "n_estimators: 300, min_samples_split: 2, max_depth: 25, min_samples_leaf: 2\n",
            "[0.65846651 0.65625    0.65571121 0.66253592 0.66038075]\n",
            "n_estimators: 300, min_samples_split: 2, max_depth: 25, min_samples_leaf: 5\n",
            "[0.64122823 0.63559626 0.63487787 0.64511494 0.64439655]\n",
            "n_estimators: 300, min_samples_split: 2, max_depth: 25, min_samples_leaf: 10\n",
            "[0.61985994 0.61548132 0.6170977  0.62140805 0.61979167]\n",
            "n_estimators: 300, min_samples_split: 2, max_depth: 30, min_samples_leaf: 1\n",
            "[0.68899264 0.68803879 0.68839799 0.69127155 0.69234914]\n",
            "n_estimators: 300, min_samples_split: 2, max_depth: 30, min_samples_leaf: 2\n",
            "[0.67714132 0.67349138 0.6715158  0.67438937 0.67349138]\n",
            "n_estimators: 300, min_samples_split: 2, max_depth: 30, min_samples_leaf: 5\n",
            "[0.6548752  0.65050287 0.65140086 0.65229885 0.65319684]\n",
            "n_estimators: 300, min_samples_split: 2, max_depth: 30, min_samples_leaf: 10\n",
            "[0.63135213 0.6253592  0.62607759 0.62948994 0.62625718]\n",
            "n_estimators: 300, min_samples_split: 5, max_depth: 5, min_samples_leaf: 1\n",
            "[0.44316753 0.42887931 0.44270833 0.44145115 0.44630029]\n",
            "n_estimators: 300, min_samples_split: 5, max_depth: 5, min_samples_leaf: 2\n",
            "[0.44011492 0.4375     0.43534483 0.43893678 0.453125  ]\n",
            "n_estimators: 300, min_samples_split: 5, max_depth: 5, min_samples_leaf: 5\n",
            "[0.43418926 0.43696121 0.43516523 0.44450431 0.45061063]\n",
            "n_estimators: 300, min_samples_split: 5, max_depth: 5, min_samples_leaf: 10\n",
            "[0.43383013 0.43408764 0.4378592  0.44055316 0.44989224]\n",
            "n_estimators: 300, min_samples_split: 5, max_depth: 8, min_samples_leaf: 1\n",
            "[0.5078111  0.50089799 0.50143678 0.50520833 0.51688218]\n",
            "n_estimators: 300, min_samples_split: 5, max_depth: 8, min_samples_leaf: 2\n",
            "[0.50960675 0.50628592 0.50574713 0.50502874 0.51275144]\n",
            "n_estimators: 300, min_samples_split: 5, max_depth: 8, min_samples_leaf: 5\n",
            "[0.50906806 0.49766523 0.50269397 0.50161638 0.51239224]\n",
            "n_estimators: 300, min_samples_split: 5, max_depth: 8, min_samples_leaf: 10\n",
            "[0.50745197 0.49371408 0.48868534 0.50125718 0.50718391]\n",
            "n_estimators: 300, min_samples_split: 5, max_depth: 15, min_samples_leaf: 1\n",
            "[0.59310469 0.58225575 0.58333333 0.58890086 0.59698276]\n",
            "n_estimators: 300, min_samples_split: 5, max_depth: 15, min_samples_leaf: 2\n",
            "[0.59166816 0.58512931 0.58189655 0.58926006 0.5941092 ]\n",
            "n_estimators: 300, min_samples_split: 5, max_depth: 15, min_samples_leaf: 5\n",
            "[0.58197163 0.57147989 0.57399425 0.58261494 0.58297414]\n",
            "n_estimators: 300, min_samples_split: 5, max_depth: 15, min_samples_leaf: 10\n",
            "[0.57514814 0.56160201 0.56357759 0.57094109 0.57345546]\n",
            "n_estimators: 300, min_samples_split: 5, max_depth: 25, min_samples_leaf: 1\n",
            "[0.66636739 0.66451149 0.66576868 0.67079741 0.66738506]\n",
            "n_estimators: 300, min_samples_split: 5, max_depth: 25, min_samples_leaf: 2\n",
            "[0.66044173 0.65463362 0.65768678 0.66109914 0.66307471]\n",
            "n_estimators: 300, min_samples_split: 5, max_depth: 25, min_samples_leaf: 5\n",
            "[0.63997127 0.63631466 0.63523707 0.64260057 0.64260057]\n",
            "n_estimators: 300, min_samples_split: 5, max_depth: 25, min_samples_leaf: 10\n",
            "[0.62093733 0.61512213 0.61063218 0.62266523 0.62068966]\n",
            "n_estimators: 300, min_samples_split: 5, max_depth: 30, min_samples_leaf: 1\n",
            "[0.6845035  0.68372845 0.6873204  0.69019397 0.6876796 ]\n",
            "n_estimators: 300, min_samples_split: 5, max_depth: 30, min_samples_leaf: 2\n",
            "[0.67193392 0.671875   0.67241379 0.67582615 0.67349138]\n",
            "n_estimators: 300, min_samples_split: 5, max_depth: 30, min_samples_leaf: 5\n",
            "[0.65146346 0.64727011 0.64924569 0.65517241 0.65553161]\n",
            "n_estimators: 300, min_samples_split: 5, max_depth: 30, min_samples_leaf: 10\n",
            "[0.62901778 0.6248204  0.62392241 0.63056753 0.62913075]\n",
            "n_estimators: 300, min_samples_split: 10, max_depth: 5, min_samples_leaf: 1\n",
            "[0.43688274 0.43229167 0.43839799 0.44001437 0.44719828]\n",
            "n_estimators: 300, min_samples_split: 10, max_depth: 5, min_samples_leaf: 2\n",
            "[0.44783624 0.4378592  0.43211207 0.44019397 0.44881466]\n",
            "n_estimators: 300, min_samples_split: 10, max_depth: 5, min_samples_leaf: 5\n",
            "[0.44191058 0.43588362 0.43139368 0.43983477 0.44324713]\n",
            "n_estimators: 300, min_samples_split: 10, max_depth: 5, min_samples_leaf: 10\n",
            "[0.44298797 0.43480603 0.43390805 0.43911638 0.45168822]\n",
            "n_estimators: 300, min_samples_split: 10, max_depth: 8, min_samples_leaf: 1\n",
            "[0.50870892 0.50251437 0.49443247 0.50718391 0.51185345]\n",
            "n_estimators: 300, min_samples_split: 10, max_depth: 8, min_samples_leaf: 2\n",
            "[0.50583588 0.50107759 0.49946121 0.50431034 0.51293103]\n",
            "n_estimators: 300, min_samples_split: 10, max_depth: 8, min_samples_leaf: 5\n",
            "[0.50799066 0.49658764 0.49479167 0.50179598 0.51041667]\n",
            "n_estimators: 300, min_samples_split: 10, max_depth: 8, min_samples_leaf: 10\n",
            "[0.50296283 0.49371408 0.49425287 0.50826149 0.50736351]\n",
            "n_estimators: 300, min_samples_split: 10, max_depth: 15, min_samples_leaf: 1\n",
            "[0.59310469 0.58512931 0.58333333 0.58710489 0.5935704 ]\n",
            "n_estimators: 300, min_samples_split: 10, max_depth: 15, min_samples_leaf: 2\n",
            "[0.59077034 0.57704741 0.58351293 0.58926006 0.59069684]\n",
            "n_estimators: 300, min_samples_split: 10, max_depth: 15, min_samples_leaf: 5\n",
            "[0.58125337 0.5705819  0.57507184 0.57399425 0.58028017]\n",
            "n_estimators: 300, min_samples_split: 10, max_depth: 15, min_samples_leaf: 10\n",
            "[0.56832465 0.56178161 0.56519397 0.5705819  0.5702227 ]\n",
            "n_estimators: 300, min_samples_split: 10, max_depth: 25, min_samples_leaf: 1\n"
          ],
          "name": "stdout"
        }
      ]
    },
    {
      "cell_type": "code",
      "metadata": {
        "id": "9wJt9kNMxAl1",
        "colab_type": "code",
        "colab": {}
      },
      "source": [
        ""
      ],
      "execution_count": 0,
      "outputs": []
    }
  ]
}