{
  "nbformat": 4,
  "nbformat_minor": 0,
  "metadata": {
    "colab": {
      "name": "CNG562-Project.ipynb",
      "provenance": [],
      "include_colab_link": true
    },
    "kernelspec": {
      "name": "python3",
      "display_name": "Python 3"
    }
  },
  "cells": [
    {
      "cell_type": "markdown",
      "metadata": {
        "id": "view-in-github",
        "colab_type": "text"
      },
      "source": [
        "<a href=\"https://colab.research.google.com/github/nisaodabas/CNG562-Project/blob/master/CNG562_Project.ipynb\" target=\"_parent\"><img src=\"https://colab.research.google.com/assets/colab-badge.svg\" alt=\"Open In Colab\"/></a>"
      ]
    },
    {
      "cell_type": "code",
      "metadata": {
        "id": "0nmD6fpWPbbu",
        "colab_type": "code",
        "outputId": "87a32c01-6ffd-490d-803e-a33b599da2b6",
        "colab": {
          "base_uri": "https://localhost:8080/",
          "height": 156
        }
      },
      "source": [
        "import numpy as np\n",
        "import pandas as pd\n",
        "import re\n",
        "from pandas import read_csv\n",
        "import matplotlib.pyplot as plt\n",
        "import plotly.graph_objs as go\n",
        "from plotly.offline import iplot\n",
        "from sklearn import model_selection\n",
        "from sklearn.model_selection import train_test_split, cross_val_score, KFold, learning_curve, StratifiedKFold, train_test_split\n",
        "from sklearn.metrics import confusion_matrix, make_scorer, accuracy_score\n",
        "import sklearn.metrics as metrics\n",
        "from sklearn.ensemble import RandomForestClassifier, AdaBoostClassifier, GradientBoostingClassifier\n",
        "from sklearn.linear_model import LogisticRegression\n",
        "from sklearn.naive_bayes import MultinomialNB\n",
        "from sklearn.svm import SVC, LinearSVC\n",
        "from sklearn.multiclass import OneVsRestClassifier\n",
        "from sklearn.cluster import KMeans\n",
        "from sklearn.model_selection import cross_validate, RandomizedSearchCV, GridSearchCV\n",
        "from sklearn.preprocessing import LabelEncoder\n",
        "from sklearn.feature_extraction.text import CountVectorizer, HashingVectorizer, TfidfVectorizer\n",
        "from nltk.stem import WordNetLemmatizer\n",
        "from sklearn.pipeline import make_pipeline\n",
        "from sklearn.preprocessing import FunctionTransformer, LabelEncoder\n",
        "from tqdm import tqdm\n",
        "from google.colab import output\n",
        "from google.colab import drive\n",
        "import nltk\n",
        "\n",
        "tqdm.pandas()\n",
        "nltk.download(\"wordnet\")\n",
        "drive.mount('/content/drive')\n",
        "%matplotlib inline"
      ],
      "execution_count": 1,
      "outputs": [
        {
          "output_type": "stream",
          "text": [
            "[nltk_data] Downloading package wordnet to /root/nltk_data...\n",
            "[nltk_data]   Unzipping corpora/wordnet.zip.\n",
            "Go to this URL in a browser: https://accounts.google.com/o/oauth2/auth?client_id=947318989803-6bn6qk8qdgf4n4g3pfee6491hc0brc4i.apps.googleusercontent.com&redirect_uri=urn%3aietf%3awg%3aoauth%3a2.0%3aoob&response_type=code&scope=email%20https%3a%2f%2fwww.googleapis.com%2fauth%2fdocs.test%20https%3a%2f%2fwww.googleapis.com%2fauth%2fdrive%20https%3a%2f%2fwww.googleapis.com%2fauth%2fdrive.photos.readonly%20https%3a%2f%2fwww.googleapis.com%2fauth%2fpeopleapi.readonly\n",
            "\n",
            "Enter your authorization code:\n",
            "··········\n",
            "Mounted at /content/drive\n"
          ],
          "name": "stdout"
        }
      ]
    },
    {
      "cell_type": "code",
      "metadata": {
        "id": "ZSD9qppCdJhh",
        "colab_type": "code",
        "colab": {}
      },
      "source": [
        "def compareAccuracy(a, b): \n",
        "    print('\\nCompare Multiple Classifiers: \\n')\n",
        "    print('K-Fold Cross-Validation Accuracy: \\n')\n",
        "    names = []\n",
        "    models = []\n",
        "    resultsAccuracy = []\n",
        "    models.append(('LR', LogisticRegression(max_iter=10000)))\n",
        "    models.append(('LSVM', LinearSVC(max_iter=10000)))\n",
        "    models.append(('RF', RandomForestClassifier()))\n",
        "    for name, model in models:\n",
        "        model.fit(a, b)\n",
        "        kfold = model_selection.KFold(n_splits=10, random_state=7, shuffle=True)\n",
        "        accuracy_results = model_selection.cross_val_score(model, a,b, cv=kfold, scoring='accuracy')\n",
        "        resultsAccuracy.append(accuracy_results)\n",
        "        names.append(name)\n",
        "        accuracyMessage = \"%s: %f (%f)\" % (name, accuracy_results.mean(), accuracy_results.std())\n",
        "        print(accuracyMessage) \n",
        "    # Boxplot\n",
        "    fig = plt.figure()\n",
        "    fig.suptitle('Algorithm Comparison: Accuracy')\n",
        "    ax = fig.add_subplot(111)\n",
        "    plt.boxplot(resultsAccuracy)\n",
        "    ax.set_xticklabels(names)\n",
        "    ax.set_ylabel('Cross-Validation: Accuracy Score')\n",
        "    plt.show()"
      ],
      "execution_count": 0,
      "outputs": []
    },
    {
      "cell_type": "code",
      "metadata": {
        "id": "gpbwj15s6jna",
        "colab_type": "code",
        "colab": {}
      },
      "source": [
        "lemmatizer = WordNetLemmatizer()\n",
        "def preprocess(ingredients):\n",
        "    ingredients_text = ' '.join(ingredients)\n",
        "    ingredients_text = ingredients_text.lower()\n",
        "    ingredients_text = ingredients_text.replace('-', '')#wasabe\n",
        "    ingredients_text = ingredients_text.replace('wasabe', 'wasabi') #for wrong name\n",
        "    #ingredients_text = ingredients_text.replace('egg whites', 'eggwhites , egg , whites')\n",
        "    #ingredients_text = ingredients_text.replace('lime juice', 'limejuice')\n",
        "    #ingredients_text = ingredients_text.replace('clam juice', 'clamjuice')\n",
        "    #ingredients_text = ingredients_text.replace('lemon juice', 'lemonjuice')\n",
        "    #ingredients_text = ingredients_text.replace('orange juice', 'orangejuice')\n",
        "    #ingredients_text = ingredients_text.replace('soy sauce', 'soysauce')\n",
        "    ingredients_text = ingredients_text.replace('fish sauce', 'fishsauce')\n",
        "    #ingredients_text = ingredients_text.replace('sesame oil', 'sesameoil')\n",
        "    #ingredients_text = ingredients_text.replace('olive oil', 'oliveoil')#vegetable oil corn oil\n",
        "    #ingredients_text = ingredients_text.replace('vegetable oil', 'vegetableoil')\n",
        "    #ingredients_text = ingredients_text.replace('corn oil', 'cornoil')#rice wine\n",
        "    #\n",
        "    ingredients_text = ingredients_text.replace('coconut cream', 'coconutcream')\n",
        "    #\n",
        "    ingredients_text = ingredients_text.replace('yellow onion', 'yellowonion')\n",
        "    ingredients_text = ingredients_text.replace('cream cheese', 'creamcheese') \n",
        "    ingredients_text = ingredients_text.replace('baby spinach', 'babyspinach')\n",
        "    ingredients_text = ingredients_text.replace('coriander seeds', 'corianderseeds')\n",
        "    ingredients_text = ingredients_text.replace('corn tortillas', 'corntortillas')\n",
        "    ingredients_text = ingredients_text.replace('rice cakes', 'ricecakes')\n",
        "    words = []\n",
        "    for word in ingredients_text.split():\n",
        "        if re.findall('[0-9]', word): continue\n",
        "        if len(word) <= 2: continue\n",
        "        if '’' in word: continue\n",
        "        word = lemmatizer.lemmatize(word)\n",
        "        if len(word) > 0: words.append(word)\n",
        "    return ' '.join(words)"
      ],
      "execution_count": 0,
      "outputs": []
    },
    {
      "cell_type": "code",
      "metadata": {
        "id": "QLPPUKwiSV3b",
        "colab_type": "code",
        "colab": {}
      },
      "source": [
        "def fourError(X, Y, model):\n",
        "    X_train, X_test, Y_train, Y_test = train_test_split(X, Y, test_size=0.3, random_state=0, stratify=Y)\n",
        "    \n",
        "    Train_x, TrainDev_x, Train_y, TrainDev_y = train_test_split(X_train, Y_train, test_size=0.14, random_state=0, stratify=Y_train)\n",
        "    Dev_x, Test_x, Dev_y, Test_y = train_test_split(X_test, Y_test, test_size=0.5, random_state=0, stratify=Y_test)\n",
        "    \n",
        "    scores = cross_val_score(model, Train_x, Train_y, cv=5, scoring=\"accuracy\")\n",
        "    print(\"Train Error,   e1: \", scores.mean(), \"\\n\")\n",
        "    model.fit(Train_x, Train_y)\n",
        "\n",
        "    y_true, trainDev_pred = TrainDev_y, model.predict(TrainDev_x)\n",
        "\n",
        "    print(\"Train-Train Dev,   e2:\", metrics.mean_squared_error(TrainDev_y, trainDev_pred),\"\\n\")\n",
        "    print(\"SVM Accuracy: \", 1 - metrics.mean_squared_error(TrainDev_y, trainDev_pred))\n",
        "    print( '\\nClassification report\\n' )\n",
        "    print(classification_report(y_true, trainDev_pred))\n",
        "\n",
        "    y_true, dev_pred = Dev_y, model.predict(Dev_x)\n",
        "    print(\"Train-Dev,   e3\", metrics.mean_squared_error(Dev_y, dev_pred),\"\\n\")\n",
        "    print(\"SVM Accuracy: \", 1 - metrics.mean_squared_error(Dev_y, dev_pred))\n",
        "    print( '\\nClassification report\\n' )\n",
        "    print(classification_report(y_true, dev_pred))\n",
        "\n",
        "    y_true, test_pred = Test_y, model.predict(Test_x)\n",
        "    print(\"Train-Test,   e4: \", metrics.mean_squared_error(Test_y, test_pred),\"\\n\")\n",
        "    print(\"SVM Accuracy: \", 1 - metrics.mean_squared_error(Test_y, test_pred))\n",
        "    print( '\\nClassification report\\n' )\n",
        "    print(classification_report(y_true, test_pred))"
      ],
      "execution_count": 0,
      "outputs": []
    },
    {
      "cell_type": "code",
      "metadata": {
        "id": "gpbalqdjb_Vu",
        "colab_type": "code",
        "colab": {}
      },
      "source": [
        "def baseModelComparision(x_train, y_train):\n",
        "    svc_linear = LinearSVC(max_iter=-1)\n",
        "    svc = SVC(cache_size=1000, max_iter=-1)\n",
        "    forest = RandomForestClassifier()\n",
        "    kmeans = KMeans()\n",
        "\n",
        "    #accuracy_results1 = cross_val_score(svc_linear, x_train, y_train, scoring='accuracy')\n",
        "    #print(\"1 {}\".format(accuracy_results1))\n",
        "\n",
        "    accuracy_results4 = cross_val_score(svc, x_train, y_train, scoring='accuracy')\n",
        "    print(\"4 {}\".format(accuracy_results4))\n",
        "    \n",
        "    accuracy_results2 = cross_val_score(forest, x_train, y_train, scoring='accuracy')\n",
        "    accuracy_results3 = cross_val_score(kmeans, x_train, y_train, scoring='accuracy')\n",
        "\n",
        "    print(\"2 {}\".format(accuracy_results2))\n",
        "    print(\"3 {}\".format(accuracy_results3))"
      ],
      "execution_count": 0,
      "outputs": []
    },
    {
      "cell_type": "code",
      "metadata": {
        "id": "VhmzebOTUwXh",
        "colab_type": "code",
        "colab": {}
      },
      "source": [
        "def logisticModel(x_train, y_train):\n",
        "\n",
        "    x_train, x_test, y_train, y_test = train_test_split(x_train, y_train, test_size=0.3, stratify=y_train, random_state=0)\n",
        "\n",
        "    clf = LogisticRegression(n_jobs=-1, multi_class='ovr', solver='saga', max_iter=2000)\n",
        "    grid_values = {'penalty': ['l1', 'l2'],\n",
        "                   'C':[1,5,10],\n",
        "                   }\n",
        "\n",
        "    grid = GridSearchCV(clf, param_grid = grid_values, scoring = 'accuracy')\n",
        "    grid.fit(x_train, y_train)\n",
        "\n",
        "    print(grid.bestestimator)\n",
        "\n",
        "\n",
        "\n",
        "    # 78.6070\n",
        "    model = LogisticRegression(penalty='l2', C=5, n_jobs=-1, multi_class='ovr', solver='saga', max_iter=10000)\n",
        "    model.fit(x_train, y_train)\n",
        "    accuracy_results = cross_val_score(model, x_train, y_train, cv=5, scoring='accuracy')\n",
        "    print(\"Logistic Regression Cross-Validation Accuracy: \", accuracy_results.mean())\n",
        "\n",
        "    clf = AdaBoostClassifier(base_estimator = model, random_state=0, n_estimators=100, learning_rate=1)\n",
        "    clf.fit(x_train, y_train)\n",
        "    accuracy_results = cross_val_score(model, x_train, y_train, cv=5, scoring='accuracy')\n",
        "    print(\"AdaBoost- Logistic Regression Cross-Validation Accuracy: \", accuracy_results.mean())"
      ],
      "execution_count": 0,
      "outputs": []
    },
    {
      "cell_type": "code",
      "metadata": {
        "id": "gR_rHK81U0Z0",
        "colab_type": "code",
        "colab": {}
      },
      "source": [
        "def MultinomialNaive(x_train, y_train):\n",
        "    x_train, x_test, y_train, y_test = train_test_split(x_train, y_train, test_size=0.3, stratify=y_train, random_state=0)\n",
        "\n",
        "    model = MultinomialNB()\n",
        "    cv = cross_val_score(model, x_train, y_train, cv=5, scoring='accuracy')\n",
        "    print(\"5-Fold: \", cv.mean()*100)"
      ],
      "execution_count": 0,
      "outputs": []
    },
    {
      "cell_type": "code",
      "metadata": {
        "id": "cZkt4REBpXM1",
        "colab_type": "code",
        "colab": {}
      },
      "source": [
        "def parameterTuning(x_train, y_train):\n",
        "    param_grid = {'C': [0.1,1, 10, 100], 'gamma': [1,0.1,0.01,0.001],'kernel': ['rbf', 'poly', 'linear']}\n",
        "    \n",
        "    C = [0.1,1, 10, 100, 200, 250]\n",
        "    #gamma = [1,0.1,0.01,0.001]\n",
        "    #kernel = ['rbf', 'poly', 'linear']\n",
        "\n",
        "    #grid = GridSearchCV(SVC(), param_grid,refit=True, n_jobs=-1)\n",
        "    #grid.fit(x_train,y_train)\n",
        "    \n",
        "    #print(\"SVM\")\n",
        "    #print(grid.best_estimator_)\n",
        "    #print(grid.best_params_)\n",
        "\n",
        "    #param_grid = {'C': [0.1,1, 10, 100]}\n",
        "\n",
        "    #grid = GridSearchCV(LinearSVC(), param_grid,refit=True, n_jobs=-1)\n",
        "    #grid.fit(x_train,y_train)\n",
        "\n",
        "    \n",
        "    #print(\"Linear SVM\")\n",
        "    #print(grid.best_estimator_)\n",
        "    #print(grid.best_params_)\n",
        "\n",
        "    n_estimators = [100, 300, 500, 800, 1200]\n",
        "    min_samples_split = [2, 5, 10, 15, 100]\n",
        "    max_depth = [5, 8, 15, 25, 30]\n",
        "    min_samples_leaf = [1, 2, 5, 10] \n",
        "\n",
        "    #hyperF = dict(n_estimators = n_estimators, max_depth = max_depth,  \n",
        "    #          min_samples_split = min_samples_split, \n",
        "    #         min_samples_leaf = min_samples_leaf)\n",
        "    \n",
        "    #grid = GridSearchCV(RandomForestClassifier(), hyperF, n_jobs = -1, refit=True)\n",
        "    #grid.fit(x_train, y_train)\n",
        "    \n",
        "    \n",
        "    #print(\"Grid Forest\")\n",
        "    #print(grid.best_estimator_)\n",
        "    #print(grid.best_params_)\n",
        "\n",
        "    #rand = RandomizedSearchCV(RandomForestClassifier(), hyperF, n_jobs=-1)\n",
        "    #rand.fit(x_train, y_train)\n",
        "\n",
        "    #print(\"Random Forest\")\n",
        "    #print(rand.best_estimator_)\n",
        "    #print(rand.best_params_)"
      ],
      "execution_count": 0,
      "outputs": []
    },
    {
      "cell_type": "code",
      "metadata": {
        "id": "Rx66P290dqoe",
        "colab_type": "code",
        "colab": {}
      },
      "source": [
        "def best_m(x_train, y_train, x_test, y_test):\n",
        "\t\testimator = SVC(C=250, kernel='rbf', degree=3, gamma=1.4, coef0=1,\n",
        "\t\t                shrinking=True, tol=0.001, probability=False, cache_size=1000,\n",
        "\t\t\t\t\t\t\t\t\t\tclass_weight=None, decision_function_shape=None,\n",
        "\t\t\t\t\t\t\t\t\t\trandom_state=None)\n",
        "\t\tclassifier = OneVsRestClassifier(estimator)\n",
        "\t\tscores = cross_val_score(classifier, x_train, y_train, cv=5, scoring=\"accuracy\")\n",
        "\n",
        "\t\tprint(scores.mean())\n",
        "\t\tclassifier.fit(x_train, y_train)\n",
        "\n",
        "\t\ty_pred = label_encoder.inverse_transform(classifier.predict(x_test))\n",
        "\t\ty_true = label_encoder.inverse_transform(y_test)\n",
        "\n",
        "\t\tprint(f'accuracy score on test data: {accuracy_score(y_true, y_pred)}')\n",
        "\t\n",
        "\t\treturn classifier"
      ],
      "execution_count": 0,
      "outputs": []
    },
    {
      "cell_type": "code",
      "metadata": {
        "id": "t2Sba7ksUSlK",
        "colab_type": "code",
        "colab": {}
      },
      "source": [
        "if __name__ == \"__main__\":\n",
        "    train_df = pd.read_json('/content/drive/My Drive/CNG562-Project/train.json')\n",
        "    test_df = pd.read_json('/content/drive/My Drive/CNG562-Project/test.json')\n",
        "    train=train_df\n",
        "    test = test_df\n"
      ],
      "execution_count": 0,
      "outputs": []
    },
    {
      "cell_type": "code",
      "metadata": {
        "id": "5k2eSC3LWE_Z",
        "colab_type": "code",
        "outputId": "a583b1e9-9c0c-4e10-f7ff-333a17c747c9",
        "colab": {
          "base_uri": "https://localhost:8080/",
          "height": 514
        }
      },
      "source": [
        "    train.head(15)"
      ],
      "execution_count": 9,
      "outputs": [
        {
          "output_type": "execute_result",
          "data": {
            "text/html": [
              "<div>\n",
              "<style scoped>\n",
              "    .dataframe tbody tr th:only-of-type {\n",
              "        vertical-align: middle;\n",
              "    }\n",
              "\n",
              "    .dataframe tbody tr th {\n",
              "        vertical-align: top;\n",
              "    }\n",
              "\n",
              "    .dataframe thead th {\n",
              "        text-align: right;\n",
              "    }\n",
              "</style>\n",
              "<table border=\"1\" class=\"dataframe\">\n",
              "  <thead>\n",
              "    <tr style=\"text-align: right;\">\n",
              "      <th></th>\n",
              "      <th>id</th>\n",
              "      <th>cuisine</th>\n",
              "      <th>ingredients</th>\n",
              "    </tr>\n",
              "  </thead>\n",
              "  <tbody>\n",
              "    <tr>\n",
              "      <th>0</th>\n",
              "      <td>10259</td>\n",
              "      <td>greek</td>\n",
              "      <td>[romaine lettuce, black olives, grape tomatoes...</td>\n",
              "    </tr>\n",
              "    <tr>\n",
              "      <th>1</th>\n",
              "      <td>25693</td>\n",
              "      <td>southern_us</td>\n",
              "      <td>[plain flour, ground pepper, salt, tomatoes, g...</td>\n",
              "    </tr>\n",
              "    <tr>\n",
              "      <th>2</th>\n",
              "      <td>20130</td>\n",
              "      <td>filipino</td>\n",
              "      <td>[eggs, pepper, salt, mayonaise, cooking oil, g...</td>\n",
              "    </tr>\n",
              "    <tr>\n",
              "      <th>3</th>\n",
              "      <td>22213</td>\n",
              "      <td>indian</td>\n",
              "      <td>[water, vegetable oil, wheat, salt]</td>\n",
              "    </tr>\n",
              "    <tr>\n",
              "      <th>4</th>\n",
              "      <td>13162</td>\n",
              "      <td>indian</td>\n",
              "      <td>[black pepper, shallots, cornflour, cayenne pe...</td>\n",
              "    </tr>\n",
              "    <tr>\n",
              "      <th>5</th>\n",
              "      <td>6602</td>\n",
              "      <td>jamaican</td>\n",
              "      <td>[plain flour, sugar, butter, eggs, fresh ginge...</td>\n",
              "    </tr>\n",
              "    <tr>\n",
              "      <th>6</th>\n",
              "      <td>42779</td>\n",
              "      <td>spanish</td>\n",
              "      <td>[olive oil, salt, medium shrimp, pepper, garli...</td>\n",
              "    </tr>\n",
              "    <tr>\n",
              "      <th>7</th>\n",
              "      <td>3735</td>\n",
              "      <td>italian</td>\n",
              "      <td>[sugar, pistachio nuts, white almond bark, flo...</td>\n",
              "    </tr>\n",
              "    <tr>\n",
              "      <th>8</th>\n",
              "      <td>16903</td>\n",
              "      <td>mexican</td>\n",
              "      <td>[olive oil, purple onion, fresh pineapple, por...</td>\n",
              "    </tr>\n",
              "    <tr>\n",
              "      <th>9</th>\n",
              "      <td>12734</td>\n",
              "      <td>italian</td>\n",
              "      <td>[chopped tomatoes, fresh basil, garlic, extra-...</td>\n",
              "    </tr>\n",
              "    <tr>\n",
              "      <th>10</th>\n",
              "      <td>5875</td>\n",
              "      <td>italian</td>\n",
              "      <td>[pimentos, sweet pepper, dried oregano, olive ...</td>\n",
              "    </tr>\n",
              "    <tr>\n",
              "      <th>11</th>\n",
              "      <td>45887</td>\n",
              "      <td>chinese</td>\n",
              "      <td>[low sodium soy sauce, fresh ginger, dry musta...</td>\n",
              "    </tr>\n",
              "    <tr>\n",
              "      <th>12</th>\n",
              "      <td>2698</td>\n",
              "      <td>italian</td>\n",
              "      <td>[Italian parsley leaves, walnuts, hot red pepp...</td>\n",
              "    </tr>\n",
              "    <tr>\n",
              "      <th>13</th>\n",
              "      <td>41995</td>\n",
              "      <td>mexican</td>\n",
              "      <td>[ground cinnamon, fresh cilantro, chili powder...</td>\n",
              "    </tr>\n",
              "    <tr>\n",
              "      <th>14</th>\n",
              "      <td>31908</td>\n",
              "      <td>italian</td>\n",
              "      <td>[fresh parmesan cheese, butter, all-purpose fl...</td>\n",
              "    </tr>\n",
              "  </tbody>\n",
              "</table>\n",
              "</div>"
            ],
            "text/plain": [
              "       id      cuisine                                        ingredients\n",
              "0   10259        greek  [romaine lettuce, black olives, grape tomatoes...\n",
              "1   25693  southern_us  [plain flour, ground pepper, salt, tomatoes, g...\n",
              "2   20130     filipino  [eggs, pepper, salt, mayonaise, cooking oil, g...\n",
              "3   22213       indian                [water, vegetable oil, wheat, salt]\n",
              "4   13162       indian  [black pepper, shallots, cornflour, cayenne pe...\n",
              "5    6602     jamaican  [plain flour, sugar, butter, eggs, fresh ginge...\n",
              "6   42779      spanish  [olive oil, salt, medium shrimp, pepper, garli...\n",
              "7    3735      italian  [sugar, pistachio nuts, white almond bark, flo...\n",
              "8   16903      mexican  [olive oil, purple onion, fresh pineapple, por...\n",
              "9   12734      italian  [chopped tomatoes, fresh basil, garlic, extra-...\n",
              "10   5875      italian  [pimentos, sweet pepper, dried oregano, olive ...\n",
              "11  45887      chinese  [low sodium soy sauce, fresh ginger, dry musta...\n",
              "12   2698      italian  [Italian parsley leaves, walnuts, hot red pepp...\n",
              "13  41995      mexican  [ground cinnamon, fresh cilantro, chili powder...\n",
              "14  31908      italian  [fresh parmesan cheese, butter, all-purpose fl..."
            ]
          },
          "metadata": {
            "tags": []
          },
          "execution_count": 9
        }
      ]
    },
    {
      "cell_type": "code",
      "metadata": {
        "id": "y4d2JKDgXrX4",
        "colab_type": "code",
        "outputId": "6988f942-1edb-4467-feb4-ad2fe1643d06",
        "colab": {
          "base_uri": "https://localhost:8080/",
          "height": 102
        }
      },
      "source": [
        "    total = train.isnull().sum().sort_values(ascending = False)\n",
        "    percent = (train.isnull().sum()/train.isnull().count()*100).sort_values(ascending = False)\n",
        "    missing_train_data  = pd.concat([total, percent], axis=1, keys=['Total missing', 'Percent missing'])\n",
        "    print(\"             # of Rows, Columns:\",train.shape)\n",
        "    print(missing_train_data.head())"
      ],
      "execution_count": 10,
      "outputs": [
        {
          "output_type": "stream",
          "text": [
            "             # of Rows, Columns: (39774, 3)\n",
            "             Total missing  Percent missing\n",
            "ingredients              0              0.0\n",
            "cuisine                  0              0.0\n",
            "id                       0              0.0\n"
          ],
          "name": "stdout"
        }
      ]
    },
    {
      "cell_type": "code",
      "metadata": {
        "id": "bauY9dXuYB-O",
        "colab_type": "code",
        "outputId": "45bc0472-105b-43d3-ad0d-b14c552a6dfa",
        "colab": {
          "base_uri": "https://localhost:8080/",
          "height": 542
        }
      },
      "source": [
        "color_theme = dict(color = ['rgba(221,160,221,1)','rgba(169,169,169,1)','rgba(255,160,122,1)','rgba(176,224,230,1)','rgba(169,169,169,1)','rgba(255,160,122,1)','rgba(176,224,230,1)',\n",
        "                   'rgba(188,143,143,1)','rgba(221,160,221,1)','rgba(169,169,169,1)','rgba(255,160,122,1)','rgba(176,224,230,1)','rgba(189,183,107,1)','rgba(188,143,143,1)','rgba(221,160,221,1)','rgba(169,169,169,1)','rgba(255,160,122,1)','rgba(176,224,230,1)','rgba(169,169,169,1)','rgba(255,160,122,1)'])\n",
        "temp = train['cuisine'].value_counts()\n",
        "trace = go.Bar(y=temp.index[::-1],x=(temp)[::-1],orientation = 'h',marker=color_theme)\n",
        "layout = go.Layout(title = \"Count of recipes per cuisine\",xaxis=dict(title='Recipe count',tickfont=dict(size=14,)),\n",
        "                   yaxis=dict(title='Cuisine',titlefont=dict(size=16),tickfont=dict(size=14)),margin=dict(l=200,))\n",
        "data = [trace]\n",
        "fig = go.Figure(data=data, layout=layout)\n",
        "iplot(fig,filename='basic-bar')"
      ],
      "execution_count": 11,
      "outputs": [
        {
          "output_type": "display_data",
          "data": {
            "text/html": [
              "<html>\n",
              "<head><meta charset=\"utf-8\" /></head>\n",
              "<body>\n",
              "    <div>\n",
              "            <script src=\"https://cdnjs.cloudflare.com/ajax/libs/mathjax/2.7.5/MathJax.js?config=TeX-AMS-MML_SVG\"></script><script type=\"text/javascript\">if (window.MathJax) {MathJax.Hub.Config({SVG: {font: \"STIX-Web\"}});}</script>\n",
              "                <script type=\"text/javascript\">window.PlotlyConfig = {MathJaxConfig: 'local'};</script>\n",
              "        <script src=\"https://cdn.plot.ly/plotly-latest.min.js\"></script>    \n",
              "            <div id=\"c35f9334-5e54-4c1f-b4fc-98c162c1f6fc\" class=\"plotly-graph-div\" style=\"height:525px; width:100%;\"></div>\n",
              "            <script type=\"text/javascript\">\n",
              "                \n",
              "                    window.PLOTLYENV=window.PLOTLYENV || {};\n",
              "                    \n",
              "                if (document.getElementById(\"c35f9334-5e54-4c1f-b4fc-98c162c1f6fc\")) {\n",
              "                    Plotly.newPlot(\n",
              "                        'c35f9334-5e54-4c1f-b4fc-98c162c1f6fc',\n",
              "                        [{\"marker\": {\"color\": [\"rgba(221,160,221,1)\", \"rgba(169,169,169,1)\", \"rgba(255,160,122,1)\", \"rgba(176,224,230,1)\", \"rgba(169,169,169,1)\", \"rgba(255,160,122,1)\", \"rgba(176,224,230,1)\", \"rgba(188,143,143,1)\", \"rgba(221,160,221,1)\", \"rgba(169,169,169,1)\", \"rgba(255,160,122,1)\", \"rgba(176,224,230,1)\", \"rgba(189,183,107,1)\", \"rgba(188,143,143,1)\", \"rgba(221,160,221,1)\", \"rgba(169,169,169,1)\", \"rgba(255,160,122,1)\", \"rgba(176,224,230,1)\", \"rgba(169,169,169,1)\", \"rgba(255,160,122,1)\"]}, \"orientation\": \"h\", \"type\": \"bar\", \"x\": [467, 489, 526, 667, 755, 804, 821, 825, 830, 989, 1175, 1423, 1539, 1546, 2646, 2673, 3003, 4320, 6438, 7838], \"y\": [\"brazilian\", \"russian\", \"jamaican\", \"irish\", \"filipino\", \"british\", \"moroccan\", \"vietnamese\", \"korean\", \"spanish\", \"greek\", \"japanese\", \"thai\", \"cajun_creole\", \"french\", \"chinese\", \"indian\", \"southern_us\", \"mexican\", \"italian\"]}],\n",
              "                        {\"margin\": {\"l\": 200}, \"template\": {\"data\": {\"bar\": [{\"error_x\": {\"color\": \"#2a3f5f\"}, \"error_y\": {\"color\": \"#2a3f5f\"}, \"marker\": {\"line\": {\"color\": \"#E5ECF6\", \"width\": 0.5}}, \"type\": \"bar\"}], \"barpolar\": [{\"marker\": {\"line\": {\"color\": \"#E5ECF6\", \"width\": 0.5}}, \"type\": \"barpolar\"}], \"carpet\": [{\"aaxis\": {\"endlinecolor\": \"#2a3f5f\", \"gridcolor\": \"white\", \"linecolor\": \"white\", \"minorgridcolor\": \"white\", \"startlinecolor\": \"#2a3f5f\"}, \"baxis\": {\"endlinecolor\": \"#2a3f5f\", \"gridcolor\": \"white\", \"linecolor\": \"white\", \"minorgridcolor\": \"white\", \"startlinecolor\": \"#2a3f5f\"}, \"type\": \"carpet\"}], \"choropleth\": [{\"colorbar\": {\"outlinewidth\": 0, \"ticks\": \"\"}, \"type\": \"choropleth\"}], \"contour\": [{\"colorbar\": {\"outlinewidth\": 0, \"ticks\": \"\"}, \"colorscale\": [[0.0, \"#0d0887\"], [0.1111111111111111, \"#46039f\"], [0.2222222222222222, \"#7201a8\"], [0.3333333333333333, \"#9c179e\"], [0.4444444444444444, \"#bd3786\"], [0.5555555555555556, \"#d8576b\"], [0.6666666666666666, \"#ed7953\"], [0.7777777777777778, \"#fb9f3a\"], [0.8888888888888888, \"#fdca26\"], [1.0, \"#f0f921\"]], \"type\": \"contour\"}], \"contourcarpet\": [{\"colorbar\": {\"outlinewidth\": 0, \"ticks\": \"\"}, \"type\": \"contourcarpet\"}], \"heatmap\": [{\"colorbar\": {\"outlinewidth\": 0, \"ticks\": \"\"}, \"colorscale\": [[0.0, \"#0d0887\"], [0.1111111111111111, \"#46039f\"], [0.2222222222222222, \"#7201a8\"], [0.3333333333333333, \"#9c179e\"], [0.4444444444444444, \"#bd3786\"], [0.5555555555555556, \"#d8576b\"], [0.6666666666666666, \"#ed7953\"], [0.7777777777777778, \"#fb9f3a\"], [0.8888888888888888, \"#fdca26\"], [1.0, \"#f0f921\"]], \"type\": \"heatmap\"}], \"heatmapgl\": [{\"colorbar\": {\"outlinewidth\": 0, \"ticks\": \"\"}, \"colorscale\": [[0.0, \"#0d0887\"], [0.1111111111111111, \"#46039f\"], [0.2222222222222222, \"#7201a8\"], [0.3333333333333333, \"#9c179e\"], [0.4444444444444444, \"#bd3786\"], [0.5555555555555556, \"#d8576b\"], [0.6666666666666666, \"#ed7953\"], [0.7777777777777778, \"#fb9f3a\"], [0.8888888888888888, \"#fdca26\"], [1.0, \"#f0f921\"]], \"type\": \"heatmapgl\"}], \"histogram\": [{\"marker\": {\"colorbar\": {\"outlinewidth\": 0, \"ticks\": \"\"}}, \"type\": \"histogram\"}], \"histogram2d\": [{\"colorbar\": {\"outlinewidth\": 0, \"ticks\": \"\"}, \"colorscale\": [[0.0, \"#0d0887\"], [0.1111111111111111, \"#46039f\"], [0.2222222222222222, \"#7201a8\"], [0.3333333333333333, \"#9c179e\"], [0.4444444444444444, \"#bd3786\"], [0.5555555555555556, \"#d8576b\"], [0.6666666666666666, \"#ed7953\"], [0.7777777777777778, \"#fb9f3a\"], [0.8888888888888888, \"#fdca26\"], [1.0, \"#f0f921\"]], \"type\": \"histogram2d\"}], \"histogram2dcontour\": [{\"colorbar\": {\"outlinewidth\": 0, \"ticks\": \"\"}, \"colorscale\": [[0.0, \"#0d0887\"], [0.1111111111111111, \"#46039f\"], [0.2222222222222222, \"#7201a8\"], [0.3333333333333333, \"#9c179e\"], [0.4444444444444444, \"#bd3786\"], [0.5555555555555556, \"#d8576b\"], [0.6666666666666666, \"#ed7953\"], [0.7777777777777778, \"#fb9f3a\"], [0.8888888888888888, \"#fdca26\"], [1.0, \"#f0f921\"]], \"type\": \"histogram2dcontour\"}], \"mesh3d\": [{\"colorbar\": {\"outlinewidth\": 0, \"ticks\": \"\"}, \"type\": \"mesh3d\"}], \"parcoords\": [{\"line\": {\"colorbar\": {\"outlinewidth\": 0, \"ticks\": \"\"}}, \"type\": \"parcoords\"}], \"pie\": [{\"automargin\": true, \"type\": \"pie\"}], \"scatter\": [{\"marker\": {\"colorbar\": {\"outlinewidth\": 0, \"ticks\": \"\"}}, \"type\": \"scatter\"}], \"scatter3d\": [{\"line\": {\"colorbar\": {\"outlinewidth\": 0, \"ticks\": \"\"}}, \"marker\": {\"colorbar\": {\"outlinewidth\": 0, \"ticks\": \"\"}}, \"type\": \"scatter3d\"}], \"scattercarpet\": [{\"marker\": {\"colorbar\": {\"outlinewidth\": 0, \"ticks\": \"\"}}, \"type\": \"scattercarpet\"}], \"scattergeo\": [{\"marker\": {\"colorbar\": {\"outlinewidth\": 0, \"ticks\": \"\"}}, \"type\": \"scattergeo\"}], \"scattergl\": [{\"marker\": {\"colorbar\": {\"outlinewidth\": 0, \"ticks\": \"\"}}, \"type\": \"scattergl\"}], \"scattermapbox\": [{\"marker\": {\"colorbar\": {\"outlinewidth\": 0, \"ticks\": \"\"}}, \"type\": \"scattermapbox\"}], \"scatterpolar\": [{\"marker\": {\"colorbar\": {\"outlinewidth\": 0, \"ticks\": \"\"}}, \"type\": \"scatterpolar\"}], \"scatterpolargl\": [{\"marker\": {\"colorbar\": {\"outlinewidth\": 0, \"ticks\": \"\"}}, \"type\": \"scatterpolargl\"}], \"scatterternary\": [{\"marker\": {\"colorbar\": {\"outlinewidth\": 0, \"ticks\": \"\"}}, \"type\": \"scatterternary\"}], \"surface\": [{\"colorbar\": {\"outlinewidth\": 0, \"ticks\": \"\"}, \"colorscale\": [[0.0, \"#0d0887\"], [0.1111111111111111, \"#46039f\"], [0.2222222222222222, \"#7201a8\"], [0.3333333333333333, \"#9c179e\"], [0.4444444444444444, \"#bd3786\"], [0.5555555555555556, \"#d8576b\"], [0.6666666666666666, \"#ed7953\"], [0.7777777777777778, \"#fb9f3a\"], [0.8888888888888888, \"#fdca26\"], [1.0, \"#f0f921\"]], \"type\": \"surface\"}], \"table\": [{\"cells\": {\"fill\": {\"color\": \"#EBF0F8\"}, \"line\": {\"color\": \"white\"}}, \"header\": {\"fill\": {\"color\": \"#C8D4E3\"}, \"line\": {\"color\": \"white\"}}, \"type\": \"table\"}]}, \"layout\": {\"annotationdefaults\": {\"arrowcolor\": \"#2a3f5f\", \"arrowhead\": 0, \"arrowwidth\": 1}, \"coloraxis\": {\"colorbar\": {\"outlinewidth\": 0, \"ticks\": \"\"}}, \"colorscale\": {\"diverging\": [[0, \"#8e0152\"], [0.1, \"#c51b7d\"], [0.2, \"#de77ae\"], [0.3, \"#f1b6da\"], [0.4, \"#fde0ef\"], [0.5, \"#f7f7f7\"], [0.6, \"#e6f5d0\"], [0.7, \"#b8e186\"], [0.8, \"#7fbc41\"], [0.9, \"#4d9221\"], [1, \"#276419\"]], \"sequential\": [[0.0, \"#0d0887\"], [0.1111111111111111, \"#46039f\"], [0.2222222222222222, \"#7201a8\"], [0.3333333333333333, \"#9c179e\"], [0.4444444444444444, \"#bd3786\"], [0.5555555555555556, \"#d8576b\"], [0.6666666666666666, \"#ed7953\"], [0.7777777777777778, \"#fb9f3a\"], [0.8888888888888888, \"#fdca26\"], [1.0, \"#f0f921\"]], \"sequentialminus\": [[0.0, \"#0d0887\"], [0.1111111111111111, \"#46039f\"], [0.2222222222222222, \"#7201a8\"], [0.3333333333333333, \"#9c179e\"], [0.4444444444444444, \"#bd3786\"], [0.5555555555555556, \"#d8576b\"], [0.6666666666666666, \"#ed7953\"], [0.7777777777777778, \"#fb9f3a\"], [0.8888888888888888, \"#fdca26\"], [1.0, \"#f0f921\"]]}, \"colorway\": [\"#636efa\", \"#EF553B\", \"#00cc96\", \"#ab63fa\", \"#FFA15A\", \"#19d3f3\", \"#FF6692\", \"#B6E880\", \"#FF97FF\", \"#FECB52\"], \"font\": {\"color\": \"#2a3f5f\"}, \"geo\": {\"bgcolor\": \"white\", \"lakecolor\": \"white\", \"landcolor\": \"#E5ECF6\", \"showlakes\": true, \"showland\": true, \"subunitcolor\": \"white\"}, \"hoverlabel\": {\"align\": \"left\"}, \"hovermode\": \"closest\", \"mapbox\": {\"style\": \"light\"}, \"paper_bgcolor\": \"white\", \"plot_bgcolor\": \"#E5ECF6\", \"polar\": {\"angularaxis\": {\"gridcolor\": \"white\", \"linecolor\": \"white\", \"ticks\": \"\"}, \"bgcolor\": \"#E5ECF6\", \"radialaxis\": {\"gridcolor\": \"white\", \"linecolor\": \"white\", \"ticks\": \"\"}}, \"scene\": {\"xaxis\": {\"backgroundcolor\": \"#E5ECF6\", \"gridcolor\": \"white\", \"gridwidth\": 2, \"linecolor\": \"white\", \"showbackground\": true, \"ticks\": \"\", \"zerolinecolor\": \"white\"}, \"yaxis\": {\"backgroundcolor\": \"#E5ECF6\", \"gridcolor\": \"white\", \"gridwidth\": 2, \"linecolor\": \"white\", \"showbackground\": true, \"ticks\": \"\", \"zerolinecolor\": \"white\"}, \"zaxis\": {\"backgroundcolor\": \"#E5ECF6\", \"gridcolor\": \"white\", \"gridwidth\": 2, \"linecolor\": \"white\", \"showbackground\": true, \"ticks\": \"\", \"zerolinecolor\": \"white\"}}, \"shapedefaults\": {\"line\": {\"color\": \"#2a3f5f\"}}, \"ternary\": {\"aaxis\": {\"gridcolor\": \"white\", \"linecolor\": \"white\", \"ticks\": \"\"}, \"baxis\": {\"gridcolor\": \"white\", \"linecolor\": \"white\", \"ticks\": \"\"}, \"bgcolor\": \"#E5ECF6\", \"caxis\": {\"gridcolor\": \"white\", \"linecolor\": \"white\", \"ticks\": \"\"}}, \"title\": {\"x\": 0.05}, \"xaxis\": {\"automargin\": true, \"gridcolor\": \"white\", \"linecolor\": \"white\", \"ticks\": \"\", \"title\": {\"standoff\": 15}, \"zerolinecolor\": \"white\", \"zerolinewidth\": 2}, \"yaxis\": {\"automargin\": true, \"gridcolor\": \"white\", \"linecolor\": \"white\", \"ticks\": \"\", \"title\": {\"standoff\": 15}, \"zerolinecolor\": \"white\", \"zerolinewidth\": 2}}}, \"title\": {\"text\": \"Count of recipes per cuisine\"}, \"xaxis\": {\"tickfont\": {\"size\": 14}, \"title\": {\"text\": \"Recipe count\"}}, \"yaxis\": {\"tickfont\": {\"size\": 14}, \"title\": {\"font\": {\"size\": 16}, \"text\": \"Cuisine\"}}},\n",
              "                        {\"responsive\": true}\n",
              "                    ).then(function(){\n",
              "                            \n",
              "var gd = document.getElementById('c35f9334-5e54-4c1f-b4fc-98c162c1f6fc');\n",
              "var x = new MutationObserver(function (mutations, observer) {{\n",
              "        var display = window.getComputedStyle(gd).display;\n",
              "        if (!display || display === 'none') {{\n",
              "            console.log([gd, 'removed!']);\n",
              "            Plotly.purge(gd);\n",
              "            observer.disconnect();\n",
              "        }}\n",
              "}});\n",
              "\n",
              "// Listen for the removal of the full notebook cells\n",
              "var notebookContainer = gd.closest('#notebook-container');\n",
              "if (notebookContainer) {{\n",
              "    x.observe(notebookContainer, {childList: true});\n",
              "}}\n",
              "\n",
              "// Listen for the clearing of the current output cell\n",
              "var outputEl = gd.closest('.output');\n",
              "if (outputEl) {{\n",
              "    x.observe(outputEl, {childList: true});\n",
              "}}\n",
              "\n",
              "                        })\n",
              "                };\n",
              "                \n",
              "            </script>\n",
              "        </div>\n",
              "</body>\n",
              "</html>"
            ]
          },
          "metadata": {
            "tags": []
          }
        }
      ]
    },
    {
      "cell_type": "code",
      "metadata": {
        "id": "J2i9tQQW7LOY",
        "colab_type": "code",
        "outputId": "3fe20d05-23ba-400d-f2cc-ab7cc0093096",
        "colab": {
          "base_uri": "https://localhost:8080/",
          "height": 238
        }
      },
      "source": [
        "train['x'] = train['ingredients'].progress_apply(lambda ingredients: preprocess(ingredients))\n",
        "test['x'] = test['ingredients'].progress_apply(lambda ingredients: preprocess(ingredients))\n",
        "train.head()"
      ],
      "execution_count": 12,
      "outputs": [
        {
          "output_type": "stream",
          "text": [
            "100%|██████████| 39774/39774 [00:05<00:00, 6937.81it/s]\n",
            "100%|██████████| 9944/9944 [00:01<00:00, 9373.19it/s]\n"
          ],
          "name": "stderr"
        },
        {
          "output_type": "execute_result",
          "data": {
            "text/html": [
              "<div>\n",
              "<style scoped>\n",
              "    .dataframe tbody tr th:only-of-type {\n",
              "        vertical-align: middle;\n",
              "    }\n",
              "\n",
              "    .dataframe tbody tr th {\n",
              "        vertical-align: top;\n",
              "    }\n",
              "\n",
              "    .dataframe thead th {\n",
              "        text-align: right;\n",
              "    }\n",
              "</style>\n",
              "<table border=\"1\" class=\"dataframe\">\n",
              "  <thead>\n",
              "    <tr style=\"text-align: right;\">\n",
              "      <th></th>\n",
              "      <th>id</th>\n",
              "      <th>cuisine</th>\n",
              "      <th>ingredients</th>\n",
              "      <th>x</th>\n",
              "    </tr>\n",
              "  </thead>\n",
              "  <tbody>\n",
              "    <tr>\n",
              "      <th>0</th>\n",
              "      <td>10259</td>\n",
              "      <td>greek</td>\n",
              "      <td>[romaine lettuce, black olives, grape tomatoes...</td>\n",
              "      <td>romaine lettuce black olive grape tomato garli...</td>\n",
              "    </tr>\n",
              "    <tr>\n",
              "      <th>1</th>\n",
              "      <td>25693</td>\n",
              "      <td>southern_us</td>\n",
              "      <td>[plain flour, ground pepper, salt, tomatoes, g...</td>\n",
              "      <td>plain flour ground pepper salt tomato ground b...</td>\n",
              "    </tr>\n",
              "    <tr>\n",
              "      <th>2</th>\n",
              "      <td>20130</td>\n",
              "      <td>filipino</td>\n",
              "      <td>[eggs, pepper, salt, mayonaise, cooking oil, g...</td>\n",
              "      <td>egg pepper salt mayonaise cooking oil green ch...</td>\n",
              "    </tr>\n",
              "    <tr>\n",
              "      <th>3</th>\n",
              "      <td>22213</td>\n",
              "      <td>indian</td>\n",
              "      <td>[water, vegetable oil, wheat, salt]</td>\n",
              "      <td>water vegetable oil wheat salt</td>\n",
              "    </tr>\n",
              "    <tr>\n",
              "      <th>4</th>\n",
              "      <td>13162</td>\n",
              "      <td>indian</td>\n",
              "      <td>[black pepper, shallots, cornflour, cayenne pe...</td>\n",
              "      <td>black pepper shallot cornflour cayenne pepper ...</td>\n",
              "    </tr>\n",
              "  </tbody>\n",
              "</table>\n",
              "</div>"
            ],
            "text/plain": [
              "      id  ...                                                  x\n",
              "0  10259  ...  romaine lettuce black olive grape tomato garli...\n",
              "1  25693  ...  plain flour ground pepper salt tomato ground b...\n",
              "2  20130  ...  egg pepper salt mayonaise cooking oil green ch...\n",
              "3  22213  ...                     water vegetable oil wheat salt\n",
              "4  13162  ...  black pepper shallot cornflour cayenne pepper ...\n",
              "\n",
              "[5 rows x 4 columns]"
            ]
          },
          "metadata": {
            "tags": []
          },
          "execution_count": 12
        }
      ]
    },
    {
      "cell_type": "code",
      "metadata": {
        "id": "RVCH9zloZsm4",
        "colab_type": "code",
        "colab": {}
      },
      "source": [
        "tfid_vectorizer = make_pipeline(\n",
        "    TfidfVectorizer(sublinear_tf=True),\n",
        "    FunctionTransformer(lambda x: x.astype('float'), validate=False)\n",
        ")\n",
        "\n",
        "counter_vectorizer = make_pipeline(\n",
        "    CountVectorizer(),\n",
        "    FunctionTransformer(lambda x: x.astype('float'), validate=False)\n",
        ")\n",
        "\n",
        "hash_vectorizer = make_pipeline(\n",
        "    HashingVectorizer(),\n",
        "    FunctionTransformer(lambda x: x.astype('float'), validate=False)\n",
        ")"
      ],
      "execution_count": 0,
      "outputs": []
    },
    {
      "cell_type": "code",
      "metadata": {
        "id": "zp9Fs3FjdkIq",
        "colab_type": "code",
        "colab": {}
      },
      "source": [
        "x_train_tfid = tfid_vectorizer.fit_transform(train['x'].values)\n",
        "x_train_tfid.sort_indices()\n",
        "x_test_tfid = tfid_vectorizer.transform(test['x'].values)\n",
        "\n",
        "x_train_counter = counter_vectorizer.fit_transform(train['x'].values)\n",
        "x_train_counter.sort_indices()\n",
        "x_test_counter = counter_vectorizer.transform(test['x'].values)\n",
        "\n",
        "x_train_hash = hash_vectorizer.fit_transform(train['x'].values)\n",
        "x_train_hash.sort_indices()\n",
        "x_test_hash = hash_vectorizer.transform(test['x'].values)"
      ],
      "execution_count": 0,
      "outputs": []
    },
    {
      "cell_type": "code",
      "metadata": {
        "id": "x1GKt2m1fQC0",
        "colab_type": "code",
        "colab": {}
      },
      "source": [
        "label_encoder = LabelEncoder()\n",
        "y_train = label_encoder.fit_transform(train['cuisine'].values)"
      ],
      "execution_count": 0,
      "outputs": []
    },
    {
      "cell_type": "code",
      "metadata": {
        "id": "61-N1gJ9OViz",
        "colab_type": "code",
        "colab": {}
      },
      "source": [
        "tfid_x70_train, tfid_x70_test, tfid_y70_train, tfid_y70_test = train_test_split(x_train_tfid, y_train, test_size=0.3, random_state = 0, stratify=y_train)\n",
        "counter_x70_train, counter_x70_test, counter_y70_train, counter_y70_test = train_test_split(x_train_counter, y_train, test_size=0.3, random_state = 0, stratify=y_train)\n",
        "hash_x70_train, hash_x70_test, hash_y70_train, hash_y70_test = train_test_split(x_train_hash, y_train, test_size=0.3, random_state = 0, stratify=y_train)"
      ],
      "execution_count": 0,
      "outputs": []
    },
    {
      "cell_type": "code",
      "metadata": {
        "id": "CkkcnEsufvk_",
        "colab_type": "code",
        "outputId": "c08a81a7-d560-45db-a31c-6b5601ff6618",
        "colab": {
          "base_uri": "https://localhost:8080/",
          "height": 68
        }
      },
      "source": [
        "baseModelComparision(tfid_x70_train, tfid_y70_train)"
      ],
      "execution_count": 0,
      "outputs": [
        {
          "output_type": "stream",
          "text": [
            "4 [0.79886864 0.80817096 0.80125707 0.79748586 0.80575811]\n",
            "2 [0.74758014 0.75675676 0.74644877 0.74494029 0.75496605]\n",
            "3 [0.02778127 0.03293526 0.08736644 0.01181647 0.01106362]\n"
          ],
          "name": "stdout"
        }
      ]
    },
    {
      "cell_type": "code",
      "metadata": {
        "id": "8arlqeWHrEFQ",
        "colab_type": "code",
        "outputId": "6a668ef6-3c32-4377-d5bb-2221e8f4d4a2",
        "colab": {
          "base_uri": "https://localhost:8080/",
          "height": 68
        }
      },
      "source": [
        "baseModelComparision(counter_x70_train, counter_y70_train)"
      ],
      "execution_count": 0,
      "outputs": [
        {
          "output_type": "stream",
          "text": [
            "4 [0.7787555  0.78416091 0.77649277 0.77686989 0.78275082]\n",
            "2 [0.75901948 0.76555625 0.76065368 0.74934004 0.76489816]\n",
            "3 [0.02903834 0.03758642 0.07894406 0.11225644 0.04010561]\n"
          ],
          "name": "stdout"
        }
      ]
    },
    {
      "cell_type": "code",
      "metadata": {
        "id": "EwqOgomuGn8i",
        "colab_type": "code",
        "outputId": "9ed8d044-d239-4e1b-ce64-c459dbccb26f",
        "colab": {
          "base_uri": "https://localhost:8080/",
          "height": 34
        }
      },
      "source": [
        "baseModelComparision(hash_x70_train, hash_x70_test)"
      ],
      "execution_count": 0,
      "outputs": [
        {
          "output_type": "stream",
          "text": [
            "4 [0.78491515 0.79208045 0.78516656 0.78390949 0.79067136]\n"
          ],
          "name": "stdout"
        }
      ]
    },
    {
      "cell_type": "code",
      "metadata": {
        "id": "SCY9m50ue3JS",
        "colab_type": "code",
        "outputId": "e3550200-8a84-439d-dbfd-a2fb6b17e0b9",
        "colab": {
          "base_uri": "https://localhost:8080/",
          "height": 430
        }
      },
      "source": [
        "compareAccuracy(x_train_tfid, y_train)"
      ],
      "execution_count": 0,
      "outputs": [
        {
          "output_type": "stream",
          "text": [
            "\n",
            "Compare Multiple Classifiers: \n",
            "\n",
            "K-Fold Cross-Validation Accuracy: \n",
            "\n",
            "LR: 0.785538 (0.007259)\n",
            "LSVM: 0.792477 (0.006236)\n",
            "RF: 0.753885 (0.005074)\n"
          ],
          "name": "stdout"
        },
        {
          "output_type": "display_data",
          "data": {
            "image/png": "[encoded data removed]",
            "text/plain": [
              "<Figure size 432x288 with 1 Axes>"
            ]
          },
          "metadata": {
            "tags": [],
            "needs_background": "light"
          }
        }
      ]
    },
    {
      "cell_type": "code",
      "metadata": {
        "id": "2mMUb3GHWkNz",
        "colab_type": "code",
        "colab": {}
      },
      "source": [
        " parameterTuning(tfid_x70_train, tfid_y70_train)"
      ],
      "execution_count": 0,
      "outputs": []
    },
    {
      "cell_type": "code",
      "metadata": {
        "id": "9wJt9kNMxAl1",
        "colab_type": "code",
        "colab": {}
      },
      "source": [
        " model = best_m(tfid_x70_train, tfid_y70_train, tfid_x70_test, tfid_y70_test)\n",
        " ada = AdaBoostClassifier(model)\n",
        " ada.fit(tfid_x70_train, tfid_x70_train)\n",
        " y_pred = label_encoder.inverse_transform(ada.predict(x_train))\n",
        " y_true = label_encoder.inverse_transform(y_train)\n",
        "\n",
        " print(f'accuracy score on train data: {accuracy_score(y_true, y_pred)}')"
      ],
      "execution_count": 0,
      "outputs": []
    },
    {
      "cell_type": "code",
      "metadata": {
        "id": "K_clmH1dKdgx",
        "colab_type": "code",
        "colab": {}
      },
      "source": [
        "tfid_x70_train, tfid_x70_test, tfid_y70_train, tfid_y70_test = train_test_split(x_train_tfid, y_train, test_size=0.3, random_state = 0, stratify=y_train)\n",
        "train_x, train_dev, train_y, test_dev = train_test_split(tfid_x70_train, tfid_y70_train, test_size=0.14, random_state = 0, stratify=tfid_y70_train)\n",
        "test_x, dev_x, test_y, dev_y = train_test_split(tfid_x70_test, tfid_y70_test, test_size=0.5, random_state = 0, stratify=tfid_y70_test)\n"
      ],
      "execution_count": 0,
      "outputs": []
    },
    {
      "cell_type": "code",
      "metadata": {
        "id": "hzb-JO9iKXn2",
        "colab_type": "code",
        "colab": {}
      },
      "source": [
        " model = best_m(tfid_x70_train, tfid_y70_train, tfid_x70_test, tfid_y70_test)"
      ],
      "execution_count": 0,
      "outputs": []
    },
    {
      "cell_type": "code",
      "metadata": {
        "id": "vUqprgKxEyhY",
        "colab_type": "code",
        "colab": {}
      },
      "source": [
        "\t\testimator = SVC(C=250, kernel='rbf', degree=3, gamma=1.4, coef0=1,\n",
        "\t\t                shrinking=True, tol=0.001, probability=False, cache_size=1000,\n",
        "\t\t\t\t\t\t\t\t\t\tclass_weight=None, decision_function_shape=None,\n",
        "\t\t\t\t\t\t\t\t\t\trandom_state=None)\n",
        "\t\tclassifier = OneVsRestClassifier(estimator)\n"
      ],
      "execution_count": 0,
      "outputs": []
    },
    {
      "cell_type": "code",
      "metadata": {
        "id": "bQ7BnqcgFpRP",
        "colab_type": "code",
        "colab": {}
      },
      "source": [
        "  fourError(x_train_tfid, y_train, classifier)"
      ],
      "execution_count": 0,
      "outputs": []
    },
    {
      "cell_type": "code",
      "metadata": {
        "id": "b9Z94TuCHXru",
        "colab_type": "code",
        "colab": {}
      },
      "source": [
        ""
      ],
      "execution_count": 0,
      "outputs": []
    }
  ]
}