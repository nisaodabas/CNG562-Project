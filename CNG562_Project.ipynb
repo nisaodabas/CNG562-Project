{
  "nbformat": 4,
  "nbformat_minor": 0,
  "metadata": {
    "colab": {
      "name": "CNG562-Project.ipynb",
      "provenance": [],
      "include_colab_link": true
    },
    "kernelspec": {
      "name": "python3",
      "display_name": "Python 3"
    }
  },
  "cells": [
    {
      "cell_type": "markdown",
      "metadata": {
        "id": "view-in-github",
        "colab_type": "text"
      },
      "source": [
        "<a href=\"https://colab.research.google.com/github/nisanuro/CNG562-Project/blob/master/CNG562_Project.ipynb\" target=\"_parent\"><img src=\"https://colab.research.google.com/assets/colab-badge.svg\" alt=\"Open In Colab\"/></a>"
      ]
    },
    {
      "cell_type": "code",
      "metadata": {
        "id": "0nmD6fpWPbbu",
        "colab_type": "code",
        "outputId": "cfef373d-f7b1-4661-88f0-81bd50bbd1fb",
        "colab": {
          "base_uri": "https://localhost:8080/",
          "height": 68
        }
      },
      "source": [
        "import numpy as np\n",
        "import pandas as pd\n",
        "import re\n",
        "from pandas import read_csv\n",
        "import matplotlib.pyplot as plt\n",
        "import plotly.graph_objs as go\n",
        "from plotly.offline import iplot\n",
        "from sklearn import model_selection\n",
        "from sklearn.model_selection import train_test_split, cross_val_score, KFold, learning_curve, StratifiedKFold, train_test_split\n",
        "from sklearn.metrics import confusion_matrix, make_scorer, accuracy_score \n",
        "from sklearn.ensemble import RandomForestClassifier\n",
        "from sklearn.linear_model import LogisticRegression\n",
        "from sklearn.svm import SVC, LinearSVC\n",
        "from sklearn.multiclass import OneVsRestClassifier\n",
        "from sklearn.cluster import KMeans\n",
        "from sklearn.model_selection import cross_validate\n",
        "from sklearn.preprocessing import LabelEncoder\n",
        "from sklearn.feature_extraction.text import CountVectorizer, HashingVectorizer, TfidfVectorizer\n",
        "from nltk.stem import WordNetLemmatizer\n",
        "from sklearn.pipeline import make_pipeline\n",
        "from sklearn.preprocessing import FunctionTransformer, LabelEncoder\n",
        "from tqdm import tqdm\n",
        "from google.colab import output\n",
        "from google.colab import drive\n",
        "import nltk\n",
        "\n",
        "tqdm.pandas()\n",
        "nltk.download(\"wordnet\")\n",
        "drive.mount('/content/drive')\n",
        "%matplotlib inline"
      ],
      "execution_count": 1,
      "outputs": [
        {
          "output_type": "stream",
          "text": [
            "[nltk_data] Downloading package wordnet to /root/nltk_data...\n",
            "[nltk_data]   Package wordnet is already up-to-date!\n",
            "Drive already mounted at /content/drive; to attempt to forcibly remount, call drive.mount(\"/content/drive\", force_remount=True).\n"
          ],
          "name": "stdout"
        }
      ]
    },
    {
      "cell_type": "code",
      "metadata": {
        "id": "ZSD9qppCdJhh",
        "colab_type": "code",
        "colab": {}
      },
      "source": [
        "def compareAccuracy(a, b): \n",
        "    print('\\nCompare Multiple Classifiers: \\n')\n",
        "    print('K-Fold Cross-Validation Accuracy: \\n')\n",
        "    names = []\n",
        "    models = []\n",
        "    resultsAccuracy = []\n",
        "    models.append(('LR', LogisticRegression()))\n",
        "    models.append(('LSVM', LinearSVC()))\n",
        "    models.append(('RF', RandomForestClassifier()))\n",
        "    for name, model in models:\n",
        "        model.fit(a, b)\n",
        "        kfold = model_selection.KFold(n_splits=10, random_state=7)\n",
        "        accuracy_results = model_selection.cross_val_score(model, a,b, cv=kfold, scoring='accuracy')\n",
        "        resultsAccuracy.append(accuracy_results)\n",
        "        names.append(name)\n",
        "        accuracyMessage = \"%s: %f (%f)\" % (name, accuracy_results.mean(), accuracy_results.std())\n",
        "        print(accuracyMessage) \n",
        "    # Boxplot\n",
        "    fig = plt.figure()\n",
        "    fig.suptitle('Algorithm Comparison: Accuracy')\n",
        "    ax = fig.add_subplot(111)\n",
        "    plt.boxplot(resultsAccuracy)\n",
        "    ax.set_xticklabels(names)\n",
        "    ax.set_ylabel('Cross-Validation: Accuracy Score')\n",
        "    plt.show()"
      ],
      "execution_count": 0,
      "outputs": []
    },
    {
      "cell_type": "code",
      "metadata": {
        "id": "gpbwj15s6jna",
        "colab_type": "code",
        "colab": {}
      },
      "source": [
        "lemmatizer = WordNetLemmatizer()\n",
        "def preprocess(ingredients):\n",
        "    ingredients_text = ' '.join(ingredients)\n",
        "    ingredients_text = ingredients_text.lower()\n",
        "    ingredients_text = ingredients_text.replace('-', '')#wasabe\n",
        "    ingredients_text = ingredients_text.replace('wasabe', 'wasabi') #for wrong name\n",
        "    #ingredients_text = ingredients_text.replace('egg whites', 'eggwhites , egg , whites')\n",
        "    #ingredients_text = ingredients_text.replace('lime juice', 'limejuice')\n",
        "    #ingredients_text = ingredients_text.replace('clam juice', 'clamjuice')\n",
        "    #ingredients_text = ingredients_text.replace('lemon juice', 'lemonjuice')\n",
        "    #ingredients_text = ingredients_text.replace('orange juice', 'orangejuice')\n",
        "    #ingredients_text = ingredients_text.replace('soy sauce', 'soysauce')\n",
        "    ingredients_text = ingredients_text.replace('fish sauce', 'fishsauce')\n",
        "    #ingredients_text = ingredients_text.replace('sesame oil', 'sesameoil')\n",
        "    #ingredients_text = ingredients_text.replace('olive oil', 'oliveoil')#vegetable oil corn oil\n",
        "    #ingredients_text = ingredients_text.replace('vegetable oil', 'vegetableoil')\n",
        "    #ingredients_text = ingredients_text.replace('corn oil', 'cornoil')#rice wine\n",
        "    #\n",
        "    ingredients_text = ingredients_text.replace('coconut cream', 'coconutcream')\n",
        "    #\n",
        "    ingredients_text = ingredients_text.replace('yellow onion', 'yellowonion')\n",
        "    ingredients_text = ingredients_text.replace('cream cheese', 'creamcheese') \n",
        "    ingredients_text = ingredients_text.replace('baby spinach', 'babyspinach')\n",
        "    ingredients_text = ingredients_text.replace('coriander seeds', 'corianderseeds')\n",
        "    ingredients_text = ingredients_text.replace('corn tortillas', 'corntortillas')\n",
        "    ingredients_text = ingredients_text.replace('rice cakes', 'ricecakes')\n",
        "    words = []\n",
        "    for word in ingredients_text.split():\n",
        "        if re.findall('[0-9]', word): continue\n",
        "        if len(word) <= 2: continue\n",
        "        if '’' in word: continue\n",
        "        word = lemmatizer.lemmatize(word)\n",
        "        if len(word) > 0: words.append(word)\n",
        "    return ' '.join(words)"
      ],
      "execution_count": 0,
      "outputs": []
    },
    {
      "cell_type": "code",
      "metadata": {
        "id": "gpbalqdjb_Vu",
        "colab_type": "code",
        "colab": {}
      },
      "source": [
        "def baseModelComparision(x_train, y_train, test):\n",
        "    svc_linear = LinearSVC(max_iter=-1)\n",
        "    svc = SVC(cache_size=1000, max_iter=-1)\n",
        "    forest = RandomForestClassifier()\n",
        "    kmeans = KMeans()\n",
        "\n",
        "    #accuracy_results1 = cross_val_score(svc_linear, x_train, y_train, scoring='accuracy')\n",
        "    #print(\"1 {}\".format(accuracy_results1))\n",
        "\n",
        "    accuracy_results4 = cross_val_score(svc, x_train, y_train, scoring='accuracy')\n",
        "    print(\"4 {}\".format(accuracy_results4))\n",
        "    \n",
        "    accuracy_results2 = cross_val_score(forest, x_train, y_train, scoring='accuracy')\n",
        "    accuracy_results3 = cross_val_score(kmeans, x_train, y_train, scoring='accuracy')\n",
        "\n",
        "    print(\"2 {}\".format(accuracy_results2))\n",
        "    print(\"3 {}\".format(accuracy_results3))"
      ],
      "execution_count": 0,
      "outputs": []
    },
    {
      "cell_type": "code",
      "metadata": {
        "id": "Rx66P290dqoe",
        "colab_type": "code",
        "colab": {}
      },
      "source": [
        "def test(x_train, y_train, test):\n",
        "    estimator = SVC(C=250, # penalty parameter, setting it to a larger value \n",
        "\t \t\t\t kernel='rbf', # kernel type, rbf working fine here\n",
        "\t \t\t\t degree=3, # default value, not tuned yet\n",
        "\t \t\t\t gamma=1.4, # kernel coefficient, not tuned yet\n",
        "\t \t\t\t coef0=1, # change to 1 from default value of 0.0\n",
        "\t \t\t\t shrinking=True, # using shrinking heuristics\n",
        "\t \t\t\t tol=0.001, # stopping criterion tolerance \n",
        "\t \t\t\t probability=False, # no need to enable probability estimates\n",
        "\t \t\t\t cache_size=1000, # 200 MB cache size\n",
        "\t \t\t\t class_weight=None, # all classes are treated equally \n",
        "\t \t\t\t verbose=False, # print the logs \n",
        "\t \t\t\t max_iter=-1, # no limit, let it run\n",
        "\t \t\t\t decision_function_shape=None, # will use one vs rest explicitly \n",
        "\t \t\t\t random_state=None)\n",
        "    classifier = OneVsRestClassifier(estimator)\n",
        "\n",
        "    scores = cross_validate(classifier, x_train, y_train, cv=3)\n",
        "    scores['test_score'].mean()\n",
        "\n",
        "    classifier.fit(x_train, y_train)\n",
        "\n",
        "    y_pred = label_encoder.inverse_transform(classifier.predict(x_train))\n",
        "    y_true = label_encoder.inverse_transform(y_train)\n",
        "\n",
        "    print(f'accuracy score on train data: {accuracy_score(y_true, y_pred)}')"
      ],
      "execution_count": 0,
      "outputs": []
    },
    {
      "cell_type": "code",
      "metadata": {
        "id": "t2Sba7ksUSlK",
        "colab_type": "code",
        "colab": {}
      },
      "source": [
        "if __name__ == \"__main__\":\n",
        "    train_df = pd.read_json('/content/drive/My Drive/CNG562-Project/train.json')\n",
        "    test_df = pd.read_json('/content/drive/My Drive/CNG562-Project/test.json')\n",
        "    train=train_df\n",
        "    test = test_df\n"
      ],
      "execution_count": 0,
      "outputs": []
    },
    {
      "cell_type": "code",
      "metadata": {
        "id": "5k2eSC3LWE_Z",
        "colab_type": "code",
        "outputId": "3d629e59-6e7e-43cd-bcee-30f3a0f27107",
        "colab": {
          "base_uri": "https://localhost:8080/",
          "height": 514
        }
      },
      "source": [
        "    train.head(15)"
      ],
      "execution_count": 7,
      "outputs": [
        {
          "output_type": "execute_result",
          "data": {
            "text/html": [
              "<div>\n",
              "<style scoped>\n",
              "    .dataframe tbody tr th:only-of-type {\n",
              "        vertical-align: middle;\n",
              "    }\n",
              "\n",
              "    .dataframe tbody tr th {\n",
              "        vertical-align: top;\n",
              "    }\n",
              "\n",
              "    .dataframe thead th {\n",
              "        text-align: right;\n",
              "    }\n",
              "</style>\n",
              "<table border=\"1\" class=\"dataframe\">\n",
              "  <thead>\n",
              "    <tr style=\"text-align: right;\">\n",
              "      <th></th>\n",
              "      <th>id</th>\n",
              "      <th>cuisine</th>\n",
              "      <th>ingredients</th>\n",
              "    </tr>\n",
              "  </thead>\n",
              "  <tbody>\n",
              "    <tr>\n",
              "      <th>0</th>\n",
              "      <td>10259</td>\n",
              "      <td>greek</td>\n",
              "      <td>[romaine lettuce, black olives, grape tomatoes...</td>\n",
              "    </tr>\n",
              "    <tr>\n",
              "      <th>1</th>\n",
              "      <td>25693</td>\n",
              "      <td>southern_us</td>\n",
              "      <td>[plain flour, ground pepper, salt, tomatoes, g...</td>\n",
              "    </tr>\n",
              "    <tr>\n",
              "      <th>2</th>\n",
              "      <td>20130</td>\n",
              "      <td>filipino</td>\n",
              "      <td>[eggs, pepper, salt, mayonaise, cooking oil, g...</td>\n",
              "    </tr>\n",
              "    <tr>\n",
              "      <th>3</th>\n",
              "      <td>22213</td>\n",
              "      <td>indian</td>\n",
              "      <td>[water, vegetable oil, wheat, salt]</td>\n",
              "    </tr>\n",
              "    <tr>\n",
              "      <th>4</th>\n",
              "      <td>13162</td>\n",
              "      <td>indian</td>\n",
              "      <td>[black pepper, shallots, cornflour, cayenne pe...</td>\n",
              "    </tr>\n",
              "    <tr>\n",
              "      <th>5</th>\n",
              "      <td>6602</td>\n",
              "      <td>jamaican</td>\n",
              "      <td>[plain flour, sugar, butter, eggs, fresh ginge...</td>\n",
              "    </tr>\n",
              "    <tr>\n",
              "      <th>6</th>\n",
              "      <td>42779</td>\n",
              "      <td>spanish</td>\n",
              "      <td>[olive oil, salt, medium shrimp, pepper, garli...</td>\n",
              "    </tr>\n",
              "    <tr>\n",
              "      <th>7</th>\n",
              "      <td>3735</td>\n",
              "      <td>italian</td>\n",
              "      <td>[sugar, pistachio nuts, white almond bark, flo...</td>\n",
              "    </tr>\n",
              "    <tr>\n",
              "      <th>8</th>\n",
              "      <td>16903</td>\n",
              "      <td>mexican</td>\n",
              "      <td>[olive oil, purple onion, fresh pineapple, por...</td>\n",
              "    </tr>\n",
              "    <tr>\n",
              "      <th>9</th>\n",
              "      <td>12734</td>\n",
              "      <td>italian</td>\n",
              "      <td>[chopped tomatoes, fresh basil, garlic, extra-...</td>\n",
              "    </tr>\n",
              "    <tr>\n",
              "      <th>10</th>\n",
              "      <td>5875</td>\n",
              "      <td>italian</td>\n",
              "      <td>[pimentos, sweet pepper, dried oregano, olive ...</td>\n",
              "    </tr>\n",
              "    <tr>\n",
              "      <th>11</th>\n",
              "      <td>45887</td>\n",
              "      <td>chinese</td>\n",
              "      <td>[low sodium soy sauce, fresh ginger, dry musta...</td>\n",
              "    </tr>\n",
              "    <tr>\n",
              "      <th>12</th>\n",
              "      <td>2698</td>\n",
              "      <td>italian</td>\n",
              "      <td>[Italian parsley leaves, walnuts, hot red pepp...</td>\n",
              "    </tr>\n",
              "    <tr>\n",
              "      <th>13</th>\n",
              "      <td>41995</td>\n",
              "      <td>mexican</td>\n",
              "      <td>[ground cinnamon, fresh cilantro, chili powder...</td>\n",
              "    </tr>\n",
              "    <tr>\n",
              "      <th>14</th>\n",
              "      <td>31908</td>\n",
              "      <td>italian</td>\n",
              "      <td>[fresh parmesan cheese, butter, all-purpose fl...</td>\n",
              "    </tr>\n",
              "  </tbody>\n",
              "</table>\n",
              "</div>"
            ],
            "text/plain": [
              "       id      cuisine                                        ingredients\n",
              "0   10259        greek  [romaine lettuce, black olives, grape tomatoes...\n",
              "1   25693  southern_us  [plain flour, ground pepper, salt, tomatoes, g...\n",
              "2   20130     filipino  [eggs, pepper, salt, mayonaise, cooking oil, g...\n",
              "3   22213       indian                [water, vegetable oil, wheat, salt]\n",
              "4   13162       indian  [black pepper, shallots, cornflour, cayenne pe...\n",
              "5    6602     jamaican  [plain flour, sugar, butter, eggs, fresh ginge...\n",
              "6   42779      spanish  [olive oil, salt, medium shrimp, pepper, garli...\n",
              "7    3735      italian  [sugar, pistachio nuts, white almond bark, flo...\n",
              "8   16903      mexican  [olive oil, purple onion, fresh pineapple, por...\n",
              "9   12734      italian  [chopped tomatoes, fresh basil, garlic, extra-...\n",
              "10   5875      italian  [pimentos, sweet pepper, dried oregano, olive ...\n",
              "11  45887      chinese  [low sodium soy sauce, fresh ginger, dry musta...\n",
              "12   2698      italian  [Italian parsley leaves, walnuts, hot red pepp...\n",
              "13  41995      mexican  [ground cinnamon, fresh cilantro, chili powder...\n",
              "14  31908      italian  [fresh parmesan cheese, butter, all-purpose fl..."
            ]
          },
          "metadata": {
            "tags": []
          },
          "execution_count": 7
        }
      ]
    },
    {
      "cell_type": "code",
      "metadata": {
        "id": "y4d2JKDgXrX4",
        "colab_type": "code",
        "outputId": "fff665cb-c383-4516-c613-38841bad3aac",
        "colab": {
          "base_uri": "https://localhost:8080/",
          "height": 102
        }
      },
      "source": [
        "    total = train.isnull().sum().sort_values(ascending = False)\n",
        "    percent = (train.isnull().sum()/train.isnull().count()*100).sort_values(ascending = False)\n",
        "    missing_train_data  = pd.concat([total, percent], axis=1, keys=['Total missing', 'Percent missing'])\n",
        "    print(\"             # of Rows, Columns:\",train.shape)\n",
        "    print(missing_train_data.head())"
      ],
      "execution_count": 8,
      "outputs": [
        {
          "output_type": "stream",
          "text": [
            "             # of Rows, Columns: (39774, 3)\n",
            "             Total missing  Percent missing\n",
            "ingredients              0              0.0\n",
            "cuisine                  0              0.0\n",
            "id                       0              0.0\n"
          ],
          "name": "stdout"
        }
      ]
    },
    {
      "cell_type": "code",
      "metadata": {
        "id": "bauY9dXuYB-O",
        "colab_type": "code",
        "colab": {}
      },
      "source": [
        "color_theme = dict(color = ['rgba(221,160,221,1)','rgba(169,169,169,1)','rgba(255,160,122,1)','rgba(176,224,230,1)','rgba(169,169,169,1)','rgba(255,160,122,1)','rgba(176,224,230,1)',\n",
        "                   'rgba(188,143,143,1)','rgba(221,160,221,1)','rgba(169,169,169,1)','rgba(255,160,122,1)','rgba(176,224,230,1)','rgba(189,183,107,1)','rgba(188,143,143,1)','rgba(221,160,221,1)','rgba(169,169,169,1)','rgba(255,160,122,1)','rgba(176,224,230,1)','rgba(169,169,169,1)','rgba(255,160,122,1)'])\n",
        "temp = train['cuisine'].value_counts()\n",
        "trace = go.Bar(y=temp.index[::-1],x=(temp)[::-1],orientation = 'h',marker=color_theme)\n",
        "layout = go.Layout(title = \"Count of recipes per cuisine\",xaxis=dict(title='Recipe count',tickfont=dict(size=14,)),\n",
        "                   yaxis=dict(title='Cuisine',titlefont=dict(size=16),tickfont=dict(size=14)),margin=dict(l=200,))\n",
        "data = [trace]\n",
        "fig = go.Figure(data=data, layout=layout)\n",
        "#iplot(fig,filename='basic-bar')"
      ],
      "execution_count": 0,
      "outputs": []
    },
    {
      "cell_type": "code",
      "metadata": {
        "id": "J2i9tQQW7LOY",
        "colab_type": "code",
        "outputId": "8ae15629-1d84-4168-cfa2-e53008263894",
        "colab": {
          "base_uri": "https://localhost:8080/",
          "height": 238
        }
      },
      "source": [
        "train['x'] = train['ingredients'].progress_apply(lambda ingredients: preprocess(ingredients))\n",
        "test['x'] = test['ingredients'].progress_apply(lambda ingredients: preprocess(ingredients))\n",
        "train.head()"
      ],
      "execution_count": 10,
      "outputs": [
        {
          "output_type": "stream",
          "text": [
            "100%|██████████| 39774/39774 [00:06<00:00, 6006.70it/s]\n",
            "100%|██████████| 9944/9944 [00:01<00:00, 8461.45it/s]\n"
          ],
          "name": "stderr"
        },
        {
          "output_type": "execute_result",
          "data": {
            "text/html": [
              "<div>\n",
              "<style scoped>\n",
              "    .dataframe tbody tr th:only-of-type {\n",
              "        vertical-align: middle;\n",
              "    }\n",
              "\n",
              "    .dataframe tbody tr th {\n",
              "        vertical-align: top;\n",
              "    }\n",
              "\n",
              "    .dataframe thead th {\n",
              "        text-align: right;\n",
              "    }\n",
              "</style>\n",
              "<table border=\"1\" class=\"dataframe\">\n",
              "  <thead>\n",
              "    <tr style=\"text-align: right;\">\n",
              "      <th></th>\n",
              "      <th>id</th>\n",
              "      <th>cuisine</th>\n",
              "      <th>ingredients</th>\n",
              "      <th>x</th>\n",
              "    </tr>\n",
              "  </thead>\n",
              "  <tbody>\n",
              "    <tr>\n",
              "      <th>0</th>\n",
              "      <td>10259</td>\n",
              "      <td>greek</td>\n",
              "      <td>[romaine lettuce, black olives, grape tomatoes...</td>\n",
              "      <td>romaine lettuce black olive grape tomato garli...</td>\n",
              "    </tr>\n",
              "    <tr>\n",
              "      <th>1</th>\n",
              "      <td>25693</td>\n",
              "      <td>southern_us</td>\n",
              "      <td>[plain flour, ground pepper, salt, tomatoes, g...</td>\n",
              "      <td>plain flour ground pepper salt tomato ground b...</td>\n",
              "    </tr>\n",
              "    <tr>\n",
              "      <th>2</th>\n",
              "      <td>20130</td>\n",
              "      <td>filipino</td>\n",
              "      <td>[eggs, pepper, salt, mayonaise, cooking oil, g...</td>\n",
              "      <td>egg pepper salt mayonaise cooking oil green ch...</td>\n",
              "    </tr>\n",
              "    <tr>\n",
              "      <th>3</th>\n",
              "      <td>22213</td>\n",
              "      <td>indian</td>\n",
              "      <td>[water, vegetable oil, wheat, salt]</td>\n",
              "      <td>water vegetable oil wheat salt</td>\n",
              "    </tr>\n",
              "    <tr>\n",
              "      <th>4</th>\n",
              "      <td>13162</td>\n",
              "      <td>indian</td>\n",
              "      <td>[black pepper, shallots, cornflour, cayenne pe...</td>\n",
              "      <td>black pepper shallot cornflour cayenne pepper ...</td>\n",
              "    </tr>\n",
              "  </tbody>\n",
              "</table>\n",
              "</div>"
            ],
            "text/plain": [
              "      id  ...                                                  x\n",
              "0  10259  ...  romaine lettuce black olive grape tomato garli...\n",
              "1  25693  ...  plain flour ground pepper salt tomato ground b...\n",
              "2  20130  ...  egg pepper salt mayonaise cooking oil green ch...\n",
              "3  22213  ...                     water vegetable oil wheat salt\n",
              "4  13162  ...  black pepper shallot cornflour cayenne pepper ...\n",
              "\n",
              "[5 rows x 4 columns]"
            ]
          },
          "metadata": {
            "tags": []
          },
          "execution_count": 10
        }
      ]
    },
    {
      "cell_type": "code",
      "metadata": {
        "id": "RVCH9zloZsm4",
        "colab_type": "code",
        "colab": {}
      },
      "source": [
        "tfid_vectorizer = make_pipeline(\n",
        "    TfidfVectorizer(sublinear_tf=True),\n",
        "    FunctionTransformer(lambda x: x.astype('float'), validate=False)\n",
        ")\n",
        "\n",
        "counter_vectorizer = make_pipeline(\n",
        "    CountVectorizer(),\n",
        "    FunctionTransformer(lambda x: x.astype('float'), validate=False)\n",
        ")\n",
        "\n",
        "hash_vectorizer = make_pipeline(\n",
        "    HashingVectorizer(),\n",
        "    FunctionTransformer(lambda x: x.astype('float'), validate=False)\n",
        ")"
      ],
      "execution_count": 0,
      "outputs": []
    },
    {
      "cell_type": "code",
      "metadata": {
        "id": "zp9Fs3FjdkIq",
        "colab_type": "code",
        "colab": {}
      },
      "source": [
        "x_train_tfid = tfid_vectorizer.fit_transform(train['x'].values)\n",
        "x_train_tfid.sort_indices()\n",
        "x_test_tfid = tfid_vectorizer.transform(test['x'].values)\n",
        "\n",
        "x_train_counter = counter_vectorizer.fit_transform(train['x'].values)\n",
        "x_train_counter.sort_indices()\n",
        "x_test_counter = counter_vectorizer.transform(test['x'].values)\n",
        "\n",
        "x_train_hash = hash_vectorizer.fit_transform(train['x'].values)\n",
        "x_train_hash.sort_indices()\n",
        "x_test_hash = hash_vectorizer.transform(test['x'].values)"
      ],
      "execution_count": 0,
      "outputs": []
    },
    {
      "cell_type": "code",
      "metadata": {
        "id": "x1GKt2m1fQC0",
        "colab_type": "code",
        "colab": {}
      },
      "source": [
        "label_encoder = LabelEncoder()\n",
        "y_train = label_encoder.fit_transform(train['cuisine'].values)"
      ],
      "execution_count": 0,
      "outputs": []
    },
    {
      "cell_type": "code",
      "metadata": {
        "id": "CkkcnEsufvk_",
        "colab_type": "code",
        "colab": {
          "base_uri": "https://localhost:8080/",
          "height": 68
        },
        "outputId": "c08a81a7-d560-45db-a31c-6b5601ff6618"
      },
      "source": [
        "baseModelComparision(x_train_tfid, y_train, x_test_tfid)"
      ],
      "execution_count": 18,
      "outputs": [
        {
          "output_type": "stream",
          "text": [
            "4 [0.79886864 0.80817096 0.80125707 0.79748586 0.80575811]\n",
            "2 [0.74758014 0.75675676 0.74644877 0.74494029 0.75496605]\n",
            "3 [0.02778127 0.03293526 0.08736644 0.01181647 0.01106362]\n"
          ],
          "name": "stdout"
        }
      ]
    },
    {
      "cell_type": "code",
      "metadata": {
        "id": "8arlqeWHrEFQ",
        "colab_type": "code",
        "colab": {
          "base_uri": "https://localhost:8080/",
          "height": 68
        },
        "outputId": "6a668ef6-3c32-4377-d5bb-2221e8f4d4a2"
      },
      "source": [
        "baseModelComparision(x_train_counter, y_train, x_test_counter)"
      ],
      "execution_count": 19,
      "outputs": [
        {
          "output_type": "stream",
          "text": [
            "4 [0.7787555  0.78416091 0.77649277 0.77686989 0.78275082]\n",
            "2 [0.75901948 0.76555625 0.76065368 0.74934004 0.76489816]\n",
            "3 [0.02903834 0.03758642 0.07894406 0.11225644 0.04010561]\n"
          ],
          "name": "stdout"
        }
      ]
    },
    {
      "cell_type": "code",
      "metadata": {
        "id": "EwqOgomuGn8i",
        "colab_type": "code",
        "colab": {
          "base_uri": "https://localhost:8080/",
          "height": 34
        },
        "outputId": "9ed8d044-d239-4e1b-ce64-c459dbccb26f"
      },
      "source": [
        "baseModelComparision(x_train_hash, y_train, x_test_hash)"
      ],
      "execution_count": 0,
      "outputs": [
        {
          "output_type": "stream",
          "text": [
            "4 [0.78491515 0.79208045 0.78516656 0.78390949 0.79067136]\n"
          ],
          "name": "stdout"
        }
      ]
    },
    {
      "cell_type": "code",
      "metadata": {
        "id": "COb0f08pGstb",
        "colab_type": "code",
        "colab": {
          "base_uri": "https://localhost:8080/",
          "height": 34
        },
        "outputId": "c8a1bd57-1df0-4ee0-ed97-001dcb2a9a5c"
      },
      "source": [
        "test(x_train_tfid, y_train, x_test_tfid)\n"
      ],
      "execution_count": 17,
      "outputs": [
        {
          "output_type": "stream",
          "text": [
            "accuracy score on train data: 0.9996228692110424\n"
          ],
          "name": "stdout"
        }
      ]
    },
    {
      "cell_type": "code",
      "metadata": {
        "id": "SCY9m50ue3JS",
        "colab_type": "code",
        "colab": {}
      },
      "source": [
        "  "
      ],
      "execution_count": 0,
      "outputs": []
    }
  ]
}